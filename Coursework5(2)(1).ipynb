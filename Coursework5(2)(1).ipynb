{
 "cells": [
  {
   "cell_type": "markdown",
   "metadata": {
    "deletable": false,
    "editable": false,
    "nbgrader": {
     "cell_type": "markdown",
     "checksum": "c3b0f996ba6aef3d67998f7dbd90703a",
     "grade": false,
     "grade_id": "cell-93e294c23a20ade8",
     "locked": true,
     "schema_version": 3,
     "solution": false,
     "task": false
    }
   },
   "source": [
    "# Coursework 5 (Assessed) #\n",
    "\n",
    "There are three questions below, each associated to one of the core modules, Analytical and Computational foundations (ACF), Calculus (CAL) and Linear Mathematics (LMA).\n",
    "\n",
    "### Marks \n",
    "- Each of the questions is worth in total 20 marks. \n",
    "- The marks are divided amongst different sub-questions and a certain number of marks is assigned to a particular test or task. \n",
    "- The number of marks asssociated with an automated test-cell is indicated in a comment at the top of that cell. \n",
    "\n",
    "#### How to Answer\n",
    "Write your code in the \"answer\" cell where it says \"# YOUR CODE HERE\"\n",
    "and remove both the line \"# YOUR CODE HERE\" and the line \"raise NotImplementedError()\"\n",
    "\n",
    "**Important**: Do not change the name or remove the existing function, and write all your code \"inside\" the existing function, i.e. with at least one-tab's indentation.\n",
    "\n",
    "When you have written your code you should evaluate the cell and then evaluate the \"Test\" cells following it. If you don't see any errors then your code is (hopefully) correct and you can go on to the next question. \n",
    "\n",
    "If you see some errors then you have to go back and edit your code and try to fix the \"bug\". \n",
    "\n",
    "For all questions you are allowed to use any built-in functions in NumPy and Matplotlib as well as the standard libraries like 'math' but not other advanced libraries like SymPy or SciPy unless otherwise specified. \n",
    "\n",
    "All plots should be done 'inline', in other words, do not use \"popup\" windows.\n"
   ]
  },
  {
   "attachments": {
    "image.png": {
     "image/png": "[encoded data removed]"
    }
   },
   "cell_type": "markdown",
   "metadata": {
    "deletable": false,
    "editable": false,
    "nbgrader": {
     "cell_type": "markdown",
     "checksum": "ce2015e0ccbdedcb646110e22042a245",
     "grade": false,
     "grade_id": "cell-52e189986d51edc6",
     "locked": true,
     "schema_version": 3,
     "solution": false,
     "task": false
    }
   },
   "source": [
    "## Question 1 [ACF]\n",
    "It is possible to use different methods to compute approximations to $\\pi$. \n",
    "One way is to use the so-called Monte Carlo method which uses random numbers to estimate $\\pi$. \n",
    "Consider the figure below, which shows the unit disc inscribed in the unit square for $x,y\\in [0,1]$. \n",
    "![image.png](attachment:image.png)\n",
    "\n",
    "Denote the areas of the square and disc $A_s$ and $A_d$, respectively. Then of course $A_s=1$ and $A_d=\\pi/4$ so \n",
    "\n",
    "$$\n",
    "\\frac{A_d}{A_s} = \\frac{\\pi}{4}.\n",
    "$$\n",
    "\n",
    "In the right-hand figure, a set of $N_{total}$ random points (uniformly distributed) have been plotted on the unit square. The points inside and outside the disc are coloured green and red, respectively. If the number of points inside the disc are denoted $N_{disc}$, then the ratio of $N_{disc}$ to $N_{total}$ is an approximation of the ratio of areas above, namely\n",
    "$$\n",
    "\\frac{N_{disc}}{N_{total}} \\approx \\frac{\\pi}{4} \\Rightarrow \\pi = 4 \\frac{N_{disc}}{N_{total}}.\n",
    "$$\n"
   ]
  },
  {
   "cell_type": "markdown",
   "metadata": {
    "deletable": false,
    "editable": false,
    "nbgrader": {
     "cell_type": "markdown",
     "checksum": "43dc69d226903b981d47549192e89eac",
     "grade": false,
     "grade_id": "cell-7e252cfa575b19a4",
     "locked": true,
     "schema_version": 3,
     "solution": false,
     "task": false
    }
   },
   "source": [
    "**(a) [4 marks]** \n",
    "\n",
    "Write a function `estimate_pi_monte_carlo` which implements an algorithm for estimating $\\pi$ by generating a sequence of $N_{total}$ uniformly distributed random numbers in the unit square, counting how many of those points land inside the unit circle, and then returning an approximation to $\\pi$ given by the formula above.\n",
    "\n",
    "The function should:\n",
    "- take the number 'Ntotal' as input and raise a ValueError if the input is not a positive integer;\n",
    "- return a float."
   ]
  },
  {
   "cell_type": "code",
   "execution_count": 16,
   "metadata": {
    "deletable": false,
    "nbgrader": {
     "cell_type": "code",
     "checksum": "d08f1c5c949ffba85f335c9647668200",
     "grade": false,
     "grade_id": "cell-f8768f98ae6eea2d",
     "locked": false,
     "schema_version": 3,
     "solution": true,
     "task": false
    }
   },
   "outputs": [],
   "source": [
    "import random\n",
    "def estimate_pi_monte_carlo(Ntotal):\n",
    "    if Ntotal <= 0 or type(Ntotal)!=int:\n",
    "        raise ValueError()\n",
    "        \n",
    "    Ndisc = []    \n",
    "    for i in range(Ntotal):\n",
    "        x = random.random()\n",
    "        y = random.random()\n",
    "        if x**2+y**2<=1:\n",
    "            Ndisc.append((x,y))\n",
    "        else:\n",
    "            pass\n",
    "        \n",
    "    number = len(Ndisc)\n",
    "    \n",
    "    pi = 4*(number/Ntotal)\n",
    "    \n",
    "    return pi"
   ]
  },
  {
   "cell_type": "code",
   "execution_count": 253,
   "metadata": {
    "deletable": false,
    "editable": false,
    "nbgrader": {
     "cell_type": "code",
     "checksum": "64bb11573c3a46ec8b9cf89f9fd23f41",
     "grade": true,
     "grade_id": "cell-b600b1d60f339163",
     "locked": true,
     "points": 1,
     "schema_version": 3,
     "solution": false,
     "task": false
    }
   },
   "outputs": [],
   "source": [
    "# 1 mark\n",
    "from nose.tools import assert_equal\n",
    "# Test that we return a float\n",
    "assert_equal(type(estimate_pi_monte_carlo(100)),float)"
   ]
  },
  {
   "cell_type": "code",
   "execution_count": 254,
   "metadata": {
    "deletable": false,
    "editable": false,
    "nbgrader": {
     "cell_type": "code",
     "checksum": "c907f529c65a53dd88c40b37891783b3",
     "grade": true,
     "grade_id": "cell-40a19e6dd2dc005e",
     "locked": true,
     "points": 2,
     "schema_version": 3,
     "solution": false,
     "task": false
    }
   },
   "outputs": [],
   "source": [
    "# 2 marks\n",
    "from nose.tools import assert_almost_equal\n",
    "import math\n",
    "# Check that the correct value is output\n",
    "# Correct approximations might be bad by chance so we put in an error tolerance of 0.5\n",
    "assert_almost_equal(estimate_pi_monte_carlo(100000),math.pi,delta=0.5) "
   ]
  },
  {
   "cell_type": "code",
   "execution_count": 255,
   "metadata": {
    "deletable": false,
    "editable": false,
    "nbgrader": {
     "cell_type": "code",
     "checksum": "3fe53a7f34232c032496d76c57284efc",
     "grade": true,
     "grade_id": "cell-d372fe6a1875cc31",
     "locked": true,
     "points": 1,
     "schema_version": 3,
     "solution": false,
     "task": false
    }
   },
   "outputs": [],
   "source": [
    "# 1 mark\n",
    "from nose.tools import assert_raises\n",
    "# Check that ValueError is raised on wrong input\n",
    "assert_raises(ValueError,estimate_pi_monte_carlo,-1)\n",
    "assert_raises(ValueError,estimate_pi_monte_carlo,1.0)"
   ]
  },
  {
   "cell_type": "markdown",
   "metadata": {
    "deletable": false,
    "editable": false,
    "nbgrader": {
     "cell_type": "markdown",
     "checksum": "f37c4b4228d2affb71b4fa71252d62c0",
     "grade": false,
     "grade_id": "cell-256b8a2615cb6901",
     "locked": true,
     "points": 4,
     "schema_version": 3,
     "solution": false,
     "task": true
    }
   },
   "source": [
    "**(b) [4 marks]** \n",
    "Illustrate the Monte Carlo method of approximating $\\pi$ by writing a function `draw_monte_carlo` which takes as input $N_{total}$ and draws the figures included above with two subplots of the unit square. \n",
    "- the left subplot should contain a green quarter circle and the rest red;\n",
    "- the right subplot should contain a scatter plot of $N_{total}$ uniformly distributed random points;\n",
    "- the points inside the unit circle should be coloured green and points outside coloured red;\n",
    "- the unit circle itself should be coloured blue;\n",
    "- the plot should have relevant labels and tick marks.\n",
    "\n",
    "Write the function in the next cell and call the function in the following cell to render it."
   ]
  },
  {
   "cell_type": "code",
   "execution_count": 256,
   "metadata": {
    "deletable": false,
    "nbgrader": {
     "cell_type": "code",
     "checksum": "0f2255263fbcaad4b77769b8f0ba7072",
     "grade": false,
     "grade_id": "cell-4768e29ec4fffecb",
     "locked": false,
     "schema_version": 3,
     "solution": true,
     "task": false
    }
   },
   "outputs": [],
   "source": [
    "import numpy as np\n",
    "import matplotlib.pyplot as plt\n",
    "def draw_monte_carlo(Ntotal):\n",
    "    fig=plt.figure(figsize=(6,3))\n",
    "    ax1 = fig.add_subplot(121)\n",
    "    theta = np.arange(0,2*np.pi,0.01)\n",
    "    x = np.cos(theta)\n",
    "    y = np.sin(theta)\n",
    "    ax1.set_ylim(0,1)\n",
    "    ax1.set_xlim(0,1)\n",
    "    ax1.plot(x,y,c='g')\n",
    "    ax1.set_xlabel('x')\n",
    "    ax1.set_ylabel('y')\n",
    "    plt.fill(x,y,c='g')\n",
    "    plt.fill_between(theta,y1=1,y2=0,where=theta>0,facecolor='r')\n",
    "\n",
    "    ax2 = fig.add_subplot(122)\n",
    "    theta = np.arange(0,2*np.pi,0.01)\n",
    "    x1 = np.cos(theta)\n",
    "    y1 = np.sin(theta)\n",
    "    ax2.set_ylim(0,1)\n",
    "    ax2.set_xlim(0,1)\n",
    "    ax2.set_xlabel('x')\n",
    "    ax2.set_ylabel('y')\n",
    "    ax2.plot(x1,y1,c='b')\n",
    "\n",
    "    if Ntotal <= 0 or type(Ntotal)!=int:\n",
    "        raise ValueError()\n",
    "            \n",
    "    for i in range(Ntotal):\n",
    "        a = random.random()\n",
    "        b = random.random()\n",
    "        if a**2+b**2<=1:\n",
    "            ax2.scatter(a,b,c='g')\n",
    "        else:\n",
    "            ax2.scatter(a,b,c='r')\n",
    "\n",
    "\n",
    "    plt.show()\n",
    "    \n"
   ]
  },
  {
   "cell_type": "code",
   "execution_count": 257,
   "metadata": {
    "editable": false,
    "nbgrader": {
     "cell_type": "code",
     "checksum": "b06eb4be806ab49124d558449dbb76bb",
     "grade": false,
     "grade_id": "cell-dd84b63fbaad118e",
     "locked": true,
     "schema_version": 3,
     "solution": false,
     "task": false
    }
   },
   "outputs": [
    {
     "data": {
      "image/png": "[encoded data removed]",
      "text/plain": [
       "<Figure size 432x216 with 2 Axes>"
      ]
     },
     "metadata": {
      "needs_background": "light"
     },
     "output_type": "display_data"
    }
   ],
   "source": [
    "draw_monte_carlo(250)"
   ]
  },
  {
   "cell_type": "code",
   "execution_count": 258,
   "metadata": {
    "deletable": false,
    "editable": false,
    "nbgrader": {
     "cell_type": "code",
     "checksum": "b06eb4be806ab49124d558449dbb76bb",
     "grade": false,
     "grade_id": "cell-dd84b63fbaad118e",
     "locked": true,
     "schema_version": 3,
     "solution": false,
     "task": false
    },
    "scrolled": true
   },
   "outputs": [
    {
     "data": {
      "image/png": "[encoded data removed]",
      "text/plain": [
       "<Figure size 432x216 with 2 Axes>"
      ]
     },
     "metadata": {
      "needs_background": "light"
     },
     "output_type": "display_data"
    }
   ],
   "source": [
    "draw_monte_carlo(250)"
   ]
  },
  {
   "cell_type": "code",
   "execution_count": 259,
   "metadata": {
    "deletable": false,
    "editable": false,
    "nbgrader": {
     "cell_type": "code",
     "checksum": "b06eb4be806ab49124d558449dbb76bb",
     "grade": false,
     "grade_id": "cell-dd84b63fbaad118e",
     "locked": true,
     "schema_version": 3,
     "solution": false,
     "task": false
    }
   },
   "outputs": [
    {
     "data": {
      "image/png": "[encoded data removed]",
      "text/plain": [
       "<Figure size 432x216 with 2 Axes>"
      ]
     },
     "metadata": {
      "needs_background": "light"
     },
     "output_type": "display_data"
    }
   ],
   "source": [
    "draw_monte_carlo(250)"
   ]
  },
  {
   "cell_type": "markdown",
   "metadata": {
    "deletable": false,
    "editable": false,
    "nbgrader": {
     "cell_type": "markdown",
     "checksum": "176d1e209d3e917cc9cfcbef5fef97f1",
     "grade": false,
     "grade_id": "cell-a12a5147e3c73e76",
     "locked": true,
     "schema_version": 3,
     "solution": false,
     "task": false
    }
   },
   "source": [
    "**(c) [4 marks]**\n",
    "An alternative method for approximating $\\pi$ is to use the partial sum \n",
    "\n",
    "$$\n",
    "S_n = \\sum_{k=1}^{n}\\frac{1}{k^2}\n",
    "$$\n",
    "\n",
    "since it is known that $S_n \\to \\frac{\\pi^2}{6}$. \n",
    "(This formula was proven by Euler in 1734 and is a solution to the so-called Basel problem). \n",
    "\n",
    "Write a function `estimate_pi_euler` which takes a non-negative integer $n$ as input and returns an estimate of $\\pi$ by using this formula for the given $n$. Your function should also raise a ValueError if the input is not a non-negative integer. "
   ]
  },
  {
   "cell_type": "code",
   "execution_count": 17,
   "metadata": {
    "deletable": false,
    "nbgrader": {
     "cell_type": "code",
     "checksum": "729918560a24b0a0e733397d6ed8e257",
     "grade": false,
     "grade_id": "cell-564cc88a18006322",
     "locked": false,
     "schema_version": 3,
     "solution": true,
     "task": false
    }
   },
   "outputs": [],
   "source": [
    "import math\n",
    "def estimate_pi_euler(n):\n",
    "    if n < 0 or type(n)!= int :\n",
    "        raise ValueError()\n",
    "        \n",
    "    i = 1\n",
    "    s = 0\n",
    "    while i<=n:\n",
    "        s+= 1/(i**2)\n",
    "        i+=1\n",
    "    \n",
    "        \n",
    "    pi = math.sqrt(6*s)\n",
    "    \n",
    "    return pi"
   ]
  },
  {
   "cell_type": "code",
   "execution_count": 18,
   "metadata": {
    "deletable": false,
    "editable": false,
    "nbgrader": {
     "cell_type": "code",
     "checksum": "2a4cb3f30d6424311c82bd14375c6a6e",
     "grade": true,
     "grade_id": "cell-554175f7865c7b9d",
     "locked": true,
     "points": 1,
     "schema_version": 3,
     "solution": false,
     "task": false
    }
   },
   "outputs": [],
   "source": [
    "# 1 marks\n",
    "# Test that the function return a float\n",
    "from nose.tools import assert_equal\n",
    "assert_equal(type(estimate_pi_euler(100)),float)"
   ]
  },
  {
   "cell_type": "code",
   "execution_count": 19,
   "metadata": {
    "deletable": false,
    "editable": false,
    "nbgrader": {
     "cell_type": "code",
     "checksum": "60b7c7957b799aedaf5f6a10ed7b7f6a",
     "grade": true,
     "grade_id": "cell-6abec8862f271f40",
     "locked": true,
     "points": 2,
     "schema_version": 3,
     "solution": false,
     "task": false
    }
   },
   "outputs": [],
   "source": [
    "# 2 marks\n",
    "from nose.tools import assert_almost_equal\n",
    "import math\n",
    "# Test that the euler method outputs a number reasonably close to pi\n",
    "assert_almost_equal(estimate_pi_euler(100000),math.pi,delta=0.1) "
   ]
  },
  {
   "cell_type": "code",
   "execution_count": 20,
   "metadata": {
    "deletable": false,
    "editable": false,
    "nbgrader": {
     "cell_type": "code",
     "checksum": "8824a7b49d8df20db6c42c5e5d56447e",
     "grade": true,
     "grade_id": "cell-7334befce5c0aa31",
     "locked": true,
     "points": 1,
     "schema_version": 3,
     "solution": false,
     "task": false
    }
   },
   "outputs": [],
   "source": [
    "# marks 1\n",
    "from nose.tools import assert_raises\n",
    "# Check that ValueError is raised for incorrect input.\n",
    "assert_raises(ValueError,estimate_pi_euler,-1)\n",
    "assert_raises(ValueError,estimate_pi_euler,1.0)"
   ]
  },
  {
   "cell_type": "markdown",
   "metadata": {
    "deletable": false,
    "editable": false,
    "nbgrader": {
     "cell_type": "markdown",
     "checksum": "0beb05b8c0aca933aabfa930963ed26b",
     "grade": false,
     "grade_id": "cell-9141d48524e280cb",
     "locked": true,
     "schema_version": 3,
     "solution": false,
     "task": false
    }
   },
   "source": [
    "**(d) [4 marks]** \n",
    "There are many many more ways to approximate $\\pi$. One of the most efficient algorithms is using the following partial sums:\n",
    "\n",
    "$$\n",
    "S_n = {\\frac {2{\\sqrt {2}}}{9801}}\\sum _{k=0}^{n }{\\frac {(4k)!(1103+26390k)}{(k!)^{4}396^{4k}}}\n",
    "$$\n",
    "\n",
    "since it is know that $S_n \\to \\frac{1}{\\pi}$ as $n\\to \\infty$. This series was discovered by Ramanujan in 1910 and versions of it are used for all record-breaking calculations for digits of $\\pi$. \n",
    "\n",
    "Write a function `estimate_pi_ramanujan` which takes a non-negative integer $n$ as input and returns an estimate of $\\pi$ by using this formula for the given $n$. Your function should also raise a ValueError if the input is not a non-negative integer. \n"
   ]
  },
  {
   "cell_type": "code",
   "execution_count": 275,
   "metadata": {
    "deletable": false,
    "nbgrader": {
     "cell_type": "code",
     "checksum": "9fcdfa112fc593d7c723c032a96b4ffb",
     "grade": false,
     "grade_id": "cell-4759cc606fe3683d",
     "locked": false,
     "schema_version": 3,
     "solution": true,
     "task": false
    }
   },
   "outputs": [],
   "source": [
    "def estimate_pi_ramanujan(n):\n",
    "    def factor(x):\n",
    "        f=1\n",
    "        for i in range(1,x+1):\n",
    "            f = f*i\n",
    "        return f\n",
    "        \n",
    "    if n < 0 or type(n)!= int :\n",
    "        raise ValueError()\n",
    "        \n",
    "    s = 0\n",
    "    for i in range(n):\n",
    "        s+= factor(4*i)*(1103+26390*i)/(factor(i)**4*pow(396,4*i))\n",
    "    \n",
    "                                                                    \n",
    "    pi = 9801/(8**0.5*s)\n",
    "    \n",
    "    return pi\n",
    "    "
   ]
  },
  {
   "cell_type": "code",
   "execution_count": 26,
   "metadata": {},
   "outputs": [],
   "source": [
    "import math\n",
    "def estimate_pi_ramanujan(n):\n",
    "        \n",
    "    if n < 0 or type(n)!= int :\n",
    "        raise ValueError()\n",
    "        \n",
    "    s = 0\n",
    "    for i in range(n):\n",
    "        s+= math.factorial(4*i)*(1103+26390*i)/(math.factorial(i)**4*pow(396,4*i))\n",
    "    \n",
    "                                                                    \n",
    "    pi = 9801/(8**0.5*s)\n",
    "    \n",
    "    return pi\n",
    "    "
   ]
  },
  {
   "cell_type": "code",
   "execution_count": 22,
   "metadata": {
    "deletable": false,
    "editable": false,
    "nbgrader": {
     "cell_type": "code",
     "checksum": "e19d9c6c10a38cf58486582bc8ba0e1d",
     "grade": true,
     "grade_id": "cell-ab6341e170269af2",
     "locked": true,
     "points": 1,
     "schema_version": 3,
     "solution": false,
     "task": false
    }
   },
   "outputs": [],
   "source": [
    "# 1 marks\n",
    "# Test that the function returns a float\n",
    "from nose.tools import assert_equal\n",
    "assert_equal(type(estimate_pi_ramanujan(100)),float)\n"
   ]
  },
  {
   "cell_type": "code",
   "execution_count": 23,
   "metadata": {
    "deletable": false,
    "editable": false,
    "nbgrader": {
     "cell_type": "code",
     "checksum": "eb5cf4fdd95b0aa106eb7f9c230ce344",
     "grade": true,
     "grade_id": "cell-822ff06599582e0b",
     "locked": true,
     "points": 2,
     "schema_version": 3,
     "solution": false,
     "task": false
    }
   },
   "outputs": [],
   "source": [
    "# 2 marks\n",
    "# Test that the ramanujan method provides a good estimate\n",
    "from nose.tools import assert_almost_equal\n",
    "import math\n",
    "assert_almost_equal(estimate_pi_ramanujan(100),math.pi,delta=1e-10) "
   ]
  },
  {
   "cell_type": "code",
   "execution_count": 24,
   "metadata": {
    "deletable": false,
    "editable": false,
    "nbgrader": {
     "cell_type": "code",
     "checksum": "d06b3436483ebdb392585cb2c807c127",
     "grade": true,
     "grade_id": "cell-d0adfaa1a1f5ca4d",
     "locked": true,
     "points": 1,
     "schema_version": 3,
     "solution": false,
     "task": false
    }
   },
   "outputs": [],
   "source": [
    "# marks 1\n",
    "from nose.tools import assert_raises\n",
    "# Check that ValueError is raised for incorrect input.\n",
    "assert_raises(ValueError,estimate_pi_ramanujan,-1)\n",
    "assert_raises(ValueError,estimate_pi_ramanujan,1.0)"
   ]
  },
  {
   "cell_type": "markdown",
   "metadata": {
    "deletable": false,
    "editable": false,
    "nbgrader": {
     "cell_type": "markdown",
     "checksum": "eed0edd237bcf92e7a85afa452ab24d1",
     "grade": false,
     "grade_id": "cell-c09fe032fdd8bd7a",
     "locked": true,
     "points": 4,
     "schema_version": 3,
     "solution": false,
     "task": true
    }
   },
   "source": [
    "**(e) [4 marks]**\n",
    "You should now compare the three methods that you have implemented above for estimating $\\pi$.\n",
    "\n",
    "(i) Call each of them (or as many as you have done) with the input parameters $100$ and $10^4$ and print the resulting values. \n",
    "\n",
    "(ii) Comparing with the value of `math.pi`, which method do you think is more efficient? \n",
    "\n",
    "Give your answers in a new markdown formatted cell below:\n"
   ]
  },
  {
   "cell_type": "code",
   "execution_count": 25,
   "metadata": {},
   "outputs": [
    {
     "name": "stdout",
     "output_type": "stream",
     "text": [
      "2.96\n",
      "3.1384\n",
      "3.1320765318091053\n",
      "3.1414971639472147\n",
      "3.141592653589793\n",
      "3.141592653589793\n",
      "3.141592653589793\n"
     ]
    }
   ],
   "source": [
    "import math\n",
    "print(estimate_pi_monte_carlo(100))\n",
    "print(estimate_pi_monte_carlo(10**4))\n",
    "\n",
    "print(estimate_pi_euler(100))\n",
    "print(estimate_pi_euler(10**4))\n",
    "\n",
    "print(estimate_pi_ramanujan(100))\n",
    "print(estimate_pi_ramanujan(10000))\n",
    "\n",
    "print(math.pi)"
   ]
  },
  {
   "cell_type": "markdown",
   "metadata": {
    "deletable": false,
    "editable": false,
    "nbgrader": {
     "cell_type": "markdown",
     "checksum": "faf5bc7d970ce1b3d91ecf0e5deb579f",
     "grade": false,
     "grade_id": "cell-f634e5d5616a9a72",
     "locked": true,
     "schema_version": 3,
     "solution": false,
     "task": false
    }
   },
   "source": [
    "## Question 2 [CAL]\n",
    "\n",
    "The sequence of functions $F_n(x,y)$ for ($n\\ge0$) is defined by the recurrence formula\n",
    "\n",
    "$$\n",
    "F_0(x,y)=1,\\quad F_1(x,y)=\\frac{x}{2} - y^2\n",
    "$$\n",
    "and \n",
    "$$\n",
    "2n^2 F_{n+1}(x,y) = 2nxyF_n(x,y) - (2n+1)F_{n-1}(x,y),\\quad n\\ge 1.\n",
    "$$\n",
    "\n",
    "**(a) [5 marks]** Write a recursive function (i.e. a function that calls itself) `evalFn` which evaluates the function $F_n$ with the argument $x$ and $y$.\n",
    "- The function should return a float if the input is a scalar;\n",
    "- If the input x and y are both two-dimensional NumPy arrays then the output should also be a two-dimensional NumPy array;\n",
    "- If the input are numpy arrays of different shapes it should raise a ValueError."
   ]
  },
  {
   "cell_type": "code",
   "execution_count": 79,
   "metadata": {
    "deletable": false,
    "nbgrader": {
     "cell_type": "code",
     "checksum": "11418ff01f9776be914c407234dab07a",
     "grade": false,
     "grade_id": "cell-1f0a28112da0f41a",
     "locked": false,
     "schema_version": 3,
     "solution": true,
     "task": false
    }
   },
   "outputs": [],
   "source": [
    "import numpy as np\n",
    "import sympy\n",
    "def evalFn(n, x, y):\n",
    "    if type(x) != int: \n",
    "        if x.shape != y.shape:\n",
    "            raise ValueError()\n",
    "    if n == 1:\n",
    "        F = x/2-y**2\n",
    "    if n == 0:\n",
    "        F = 1 \n",
    "    if n >= 2:\n",
    "        F = (2*(n-1)*x*y*evalFn(n-1,x,y)-(2*n-1)*evalFn(n-2,x,y))/(2*(n-1)**2)\n",
    "    if type(x) != int:\n",
    "        return np.array(F)\n",
    "    else:\n",
    "        return F"
   ]
  },
  {
   "cell_type": "code",
   "execution_count": 80,
   "metadata": {
    "deletable": false,
    "editable": false,
    "nbgrader": {
     "cell_type": "code",
     "checksum": "c73a4f98e0edbc9c8c92a56073745121",
     "grade": true,
     "grade_id": "cell-e904974906967df0",
     "locked": true,
     "points": 1,
     "schema_version": 3,
     "solution": false,
     "task": false
    }
   },
   "outputs": [],
   "source": [
    "# 1 mark\n",
    "# Test that 'evalFn' returns a float if a scalar is input.\n",
    "from nose.tools import assert_equal\n",
    "assert_equal(type(evalFn(1,1,1)),float)"
   ]
  },
  {
   "cell_type": "code",
   "execution_count": 81,
   "metadata": {
    "deletable": false,
    "editable": false,
    "nbgrader": {
     "cell_type": "code",
     "checksum": "4f45120975b98faf6638768125bbdaa3",
     "grade": true,
     "grade_id": "cell-8611d0e9fad64f34",
     "locked": true,
     "points": 1,
     "schema_version": 3,
     "solution": false,
     "task": false
    }
   },
   "outputs": [],
   "source": [
    "# 1 mark\n",
    "# Test that 'evalFn' outputs the correct values for some values of n\n",
    "from nose.tools import assert_equal,assert_almost_equal\n",
    "assert_equal(evalFn(1,1,1),-0.5)\n",
    "assert_almost_equal(evalFn(4,1,1),0.5486111111111112,delta=1e-10)"
   ]
  },
  {
   "cell_type": "code",
   "execution_count": 82,
   "metadata": {
    "deletable": false,
    "editable": false,
    "nbgrader": {
     "cell_type": "code",
     "checksum": "2099b01cc2e8537be61437b212d0455f",
     "grade": true,
     "grade_id": "cell-4f586f3852a5a124",
     "locked": true,
     "points": 1,
     "schema_version": 3,
     "solution": false,
     "task": false
    }
   },
   "outputs": [],
   "source": [
    "# 1 mark\n",
    "# Hidden tests that 'evalFn' outputs the correct values for some other values of n\n",
    "from nose.tools import assert_equal,assert_almost_equal"
   ]
  },
  {
   "cell_type": "code",
   "execution_count": 83,
   "metadata": {
    "deletable": false,
    "editable": false,
    "nbgrader": {
     "cell_type": "code",
     "checksum": "9c99f2c976f6bad6006ba322c74c65ce",
     "grade": true,
     "grade_id": "cell-6865d5b69b8cd92a",
     "locked": true,
     "points": 1,
     "schema_version": 3,
     "solution": false,
     "task": false
    }
   },
   "outputs": [],
   "source": [
    "# 1 mark\n",
    "# Test that the 'evalFn' returns a numpy array of correct shape if the inputs are numpy arrays.\n",
    "from nose.tools import assert_equal,assert_almost_equal,assert_raises,assert_true\n",
    "import numpy as np\n",
    "x = np.linspace(0,1,2)\n",
    "y = np.linspace(0,1,3)\n",
    "X,Y = np.meshgrid(x,y)\n",
    "assert_equal(type(evalFn(0,X,Y)),np.ndarray)\n",
    "assert_equal(type(evalFn(1,X,Y)),np.ndarray)\n",
    "assert_equal(evalFn(1,X,Y).shape,(3,2),\"Function should return a 3 x 2 grid!\")"
   ]
  },
  {
   "cell_type": "code",
   "execution_count": 84,
   "metadata": {
    "deletable": false,
    "editable": false,
    "nbgrader": {
     "cell_type": "code",
     "checksum": "727e4d90a70e59be9c15fde04ec9d69f",
     "grade": true,
     "grade_id": "cell-e47879c81586be00",
     "locked": true,
     "points": 1,
     "schema_version": 3,
     "solution": false,
     "task": false
    }
   },
   "outputs": [],
   "source": [
    "# 1 mark\n",
    "# Test that 'evalFn' returns the correct values for some input vectors.\n",
    "import numpy as np\n",
    "x = np.linspace(0,1,2)\n",
    "y = np.linspace(0,1,3)\n",
    "X,Y = np.meshgrid(x,y)\n",
    "assert_true( (evalFn(0,X,Y)==np.ones((3,2))).all())\n",
    "assert_equal(evalFn(3,X,Y)[0,0],0.0)\n",
    "assert_almost_equal(evalFn(3,X,Y)[2,1],-0.6875,delta=1e-6)"
   ]
  },
  {
   "cell_type": "markdown",
   "metadata": {
    "deletable": false,
    "editable": false,
    "nbgrader": {
     "cell_type": "markdown",
     "checksum": "6720499e8ddbb0d428a0bb3f3628d765",
     "grade": false,
     "grade_id": "cell-2b0d234241bf5668",
     "locked": true,
     "points": 5,
     "schema_version": 3,
     "solution": false,
     "task": true
    }
   },
   "source": [
    "**(b) [5 marks]** \n",
    "Use your function from **(a)** to plot the surfaces $F_{n}(x, y)$ for $n = 0, 1, 2, 3, 4, 5$ and $−1 \\le x, y \\le 1$. Display the 6 plots in the same figure using subplots in two rows and three columns, labelling each plot clearly.\n",
    "Insert the code for plotting in the cell below."
   ]
  },
  {
   "cell_type": "code",
   "execution_count": 200,
   "metadata": {
    "deletable": false,
    "nbgrader": {
     "cell_type": "code",
     "checksum": "f4be44012c5e0ed207a6db80b26416c1",
     "grade": false,
     "grade_id": "cell-8db015e214cf460c",
     "locked": false,
     "schema_version": 3,
     "solution": true,
     "task": false
    }
   },
   "outputs": [
    {
     "data": {
      "image/png": "[encoded data removed]",
      "text/plain": [
       "<Figure size 432x288 with 6 Axes>"
      ]
     },
     "metadata": {
      "needs_background": "light"
     },
     "output_type": "display_data"
    }
   ],
   "source": [
    "import numpy as np\n",
    "import matplotlib.pyplot as plt\n",
    "\n",
    "\n",
    "fig=plt.figure()\n",
    "plt.subplots_adjust(wspace =0.5, hspace =0.5)\n",
    "x=np.linspace(-1,1)\n",
    "y=np.linspace(-1,1)\n",
    "\n",
    "\n",
    "ax1=fig.add_subplot(231,projection='3d')\n",
    "f1=evalFn(0,x,y)\n",
    "X, Y  = np.meshgrid(x,y)\n",
    "ax1.plot(X,Y,f1)\n",
    "ax1.set_xlabel('x')\n",
    "ax1.set_ylabel('y')\n",
    "ax1.set_zlabel('z')\n",
    "\n",
    "ax2=fig.add_subplot(232,projection='3d')\n",
    "f2=evalFn(1,x,y)\n",
    "X, Y  = np.meshgrid(x,y)\n",
    "ax2.plot(X,Y,f2)\n",
    "ax2.set_xlim(-1,1)\n",
    "ax2.plot(x,y,f2)\n",
    "ax2.set_xlabel('x')\n",
    "ax2.set_ylabel('y')\n",
    "ax2.set_zlabel('z')\n",
    "\n",
    "ax3=fig.add_subplot(233,projection='3d')\n",
    "f3=evalFn(2,x,y)\n",
    "X, Y  = np.meshgrid(x,y)\n",
    "ax3.plot(X,Y,f3)\n",
    "ax3.set_xlim(-1,1)\n",
    "ax3.plot(x,y,f3)\n",
    "ax3.set_xlabel('x')\n",
    "ax3.set_ylabel('y')\n",
    "ax3.set_zlabel('z')\n",
    "\n",
    "ax4=fig.add_subplot(234,projection='3d')\n",
    "f4=evalFn(3,x,y)\n",
    "X, Y  = np.meshgrid(x,y)\n",
    "ax4.plot(X,Y,f4)\n",
    "ax4.set_xlim(-1,1)\n",
    "ax4.plot(x,y,f4)\n",
    "ax4.set_xlabel('x')\n",
    "ax4.set_ylabel('y')\n",
    "ax4.set_zlabel('z')\n",
    "\n",
    "ax5=fig.add_subplot(235,projection='3d')\n",
    "f5=evalFn(4,x,y)\n",
    "X, Y  = np.meshgrid(x,y)\n",
    "ax5.plot(X,Y,f5)\n",
    "ax5.set_xlim(-1,1)\n",
    "ax5.plot(x,y,f5)\n",
    "ax5.set_xlabel('x')\n",
    "ax5.set_ylabel('y')\n",
    "ax5.set_zlabel('z')\n",
    "\n",
    "ax6=fig.add_subplot(236,projection='3d')\n",
    "f6=evalFn(5,x,y)\n",
    "X, Y  = np.meshgrid(x,y)\n",
    "ax6.plot(X,Y,f6)\n",
    "ax6.set_xlim(-1,1)\n",
    "ax6.plot(x,y,f6)\n",
    "ax6.set_xlabel('x')\n",
    "ax6.set_ylabel('y')\n",
    "ax6.set_zlabel('z')\n",
    "\n",
    "\n",
    "plt.show()"
   ]
  },
  {
   "cell_type": "markdown",
   "metadata": {
    "deletable": false,
    "editable": false,
    "nbgrader": {
     "cell_type": "markdown",
     "checksum": "123807a452fe0444c139ea6f085645a6",
     "grade": false,
     "grade_id": "cell-12fdd1d14f743e6b",
     "locked": true,
     "schema_version": 3,
     "solution": false,
     "task": false
    }
   },
   "source": [
    "**(c)**\n",
    "In addition to working numerically we can also use SymPy to study the functions $F_n$ symbolically and obtain explicit expressions.\n",
    "\n",
    "(i) Use `SymPy` to write a function `symbolicFn` which gives an expression for $F_n(x,y)$ as a polynomial in $x$ and $y$ of the form \n",
    "\n",
    "$$\n",
    "\\sum_{i,j} a(n,i,j)x^i y^j.\n",
    "$$\n",
    "\n",
    "The function should take symbolic values for $x$ and $y$ (as given by e.g. `x, y = sympy.symbols('x y')`) as input and output a polynomial in $x$ and $y$ of the type `sympy.Poly`.\n",
    "\n",
    "(ii) Call this function and compute explicit expressions of $F_n$ for $n=2,3$ and $4$ and give your answer in the indicated cell below.\n",
    "\n",
    "Hints: you might find the functions .as_poly() and sympy.Poly useful."
   ]
  },
  {
   "cell_type": "code",
   "execution_count": 75,
   "metadata": {
    "deletable": false,
    "nbgrader": {
     "cell_type": "code",
     "checksum": "aa3c810bf31e46e77d34ad7c7123eb12",
     "grade": false,
     "grade_id": "cell-7c81740c09f6b81b",
     "locked": false,
     "schema_version": 3,
     "solution": true,
     "task": false
    }
   },
   "outputs": [],
   "source": [
    "import sympy\n",
    "from sympy import symbols\n",
    "def symbolicFn(n,x,y):\n",
    "    x, y = symbols('x y')\n",
    "    \n",
    "    if n == 1:\n",
    "        F = x/2-y**2\n",
    "    if n == 0:\n",
    "        F = 1 \n",
    "    if n >= 2:\n",
    "        F = (2*(n-1)*x*y*evalFn(n-1,x,y)-(2*n-1)*evalFn(n-2,x,y))/(2*(n-1)**2)\n",
    "    \n",
    "\n",
    "    return sympy.Poly(F,x,y,domain=sympy.QQ)\n",
    "    \n",
    "    "
   ]
  },
  {
   "cell_type": "code",
   "execution_count": 76,
   "metadata": {
    "deletable": false,
    "editable": false,
    "nbgrader": {
     "cell_type": "code",
     "checksum": "d1c916d14c81de1207a2b5700c24d5de",
     "grade": true,
     "grade_id": "cell-35a33229368f8986",
     "locked": true,
     "points": 2,
     "schema_version": 3,
     "solution": false,
     "task": false
    }
   },
   "outputs": [],
   "source": [
    "# Test that the above algorithm provides reasonable outcome.\n",
    "from nose.tools import assert_equal,assert_almost_equal,assert_raises,assert_true\n",
    "import sympy\n",
    "x, y = sympy.symbols('x y')\n",
    "# Check that we get back the constant 1 as a polynomial in x and y (even though the only power is x^0y^0)\n",
    "assert_equal(symbolicFn(0,x,y),sympy.Poly(1,x,y,domain=sympy.QQ)) \n",
    "assert_equal(symbolicFn(1,x,y),sympy.Poly(x/2-y**2,x,y))\n"
   ]
  },
  {
   "cell_type": "markdown",
   "metadata": {
    "deletable": false,
    "editable": false,
    "nbgrader": {
     "cell_type": "markdown",
     "checksum": "aedc8f255c9f04286e8fdef983cb7d68",
     "grade": false,
     "grade_id": "cell-3a175656b9b24654",
     "locked": true,
     "points": 3,
     "schema_version": 3,
     "solution": false,
     "task": true
    }
   },
   "source": [
    "Insert the expressions you found for $F_2$, $F_3$ and $F_4$ here. Use LaTeX notation to display the polynomials. Recall that in Markdown LaTeX expressions are contained between \\$\\$ signs. For instance, the following:\n",
    "```\n",
    "$$\n",
    "p_i(x,y) = \\frac{4}{5}x^2 y^3 - \\frac{1}{2} x^4 y^5 - 2 x\n",
    "$$\n",
    "```\n",
    "displays as \n",
    "$$\n",
    "p_i(x,y) = \\frac{4}{5}x^2 y^3 - \\frac{1}{2} x^4 y^5 - 2 x.\n",
    "$$\n",
    "To find the LaTeX expression of a given object in SymPy you can use the function sympy.latex(). For example:\n",
    "```\n",
    "sympy.latex(sympy.QQ(4)/sympy.QQ(5)*x**2*y**3) \n",
    "```\n",
    "outputs '\\\\frac{4 x^{2} y^{3}}{5}'. Note that the '\\\\' sign is escaped as '\\\\\\\\' so you need to replace it by a single '\\\\'. \n",
    "\n",
    "\n"
   ]
  },
  {
   "cell_type": "code",
   "execution_count": 91,
   "metadata": {},
   "outputs": [
    {
     "name": "stdout",
     "output_type": "stream",
     "text": [
      "x*y*(x/2 - y**2) - 3/2\n",
      "x*y*(x*y*(x/2 - y**2) - 3/2)/2 - 5*x/16 + 5*y**2/8\n",
      "-7*x*y*(x/2 - y**2)/18 + x*y*(x*y*(x*y*(x/2 - y**2) - 3/2)/2 - 5*x/16 + 5*y**2/8)/3 + 7/12\n",
      "x y \\left(\\frac{x}{2} - y^{2}\\right) - \\frac{3}{2}\n",
      "\\frac{x y \\left(x y \\left(\\frac{x}{2} - y^{2}\\right) - \\frac{3}{2}\\right)}{2} - \\frac{5 x}{16} + 5 \\sqrt[4]{y}\n",
      "\\frac{x y \\left(\\frac{x^{2} y^{2} \\left(\\frac{x}{2} - y^{2} - \\frac{3}{2}\\right)}{2} - \\frac{5 x}{16} + 5 \\sqrt[4]{y}\\right)}{3} + \\frac{x}{36} - \\frac{y^{2}}{18} + \\frac{5254199565265579}{9007199254740992}\n"
     ]
    }
   ],
   "source": [
    "def evalF(n, x, y):\n",
    "    x, y = symbols('x y')\n",
    "  \n",
    "    if n == 1:\n",
    "        F = x/2-y**2\n",
    "    if n == 0:\n",
    "        F = 1 \n",
    "    if n >= 2:\n",
    "        F = (2*(n-1)*x*y*evalF(n-1,x,y)-(2*n-1)*evalF(n-2,x,y))/(2*(n-1)**2)\n",
    "    return F\n",
    "\n",
    "print(evalF(2,x,y))\n",
    "print(evalF(3,x,y))\n",
    "print(evalF(4,x,y))\n",
    "\n",
    "x, y = symbols('x y')\n",
    "F2 = sympy.latex(x*y*(x/sympy.QQ(2)-y**2)-sympy.QQ(3)/sympy.QQ(2))\n",
    "F3 = sympy.latex(x*y*(x*y*(x/sympy.QQ(2)-y**2)-sympy.QQ(3)/sympy.QQ(2))/sympy.QQ(2)-sympy.QQ(5)*x/sympy.QQ(16)+sympy.QQ(5)*y**sympy.QQ(2/8))\n",
    "F4 = sympy.latex((x/sympy.QQ(2)-y**sympy.QQ(2))/sympy.QQ(18)+x*y*(x*y*(x*y*(x/sympy.QQ(2)-y**sympy.QQ(2)-sympy.QQ(3/2))/sympy.QQ(2))-sympy.QQ(5)*x/sympy.QQ(16)+sympy.QQ(5)*y**sympy.QQ(2/8))/sympy.QQ(3)+sympy.QQ(7/12))\n",
    "print(F2)\n",
    "print(F3)\n",
    "print(F4)"
   ]
  },
  {
   "cell_type": "markdown",
   "metadata": {
    "deletable": false,
    "editable": false,
    "nbgrader": {
     "cell_type": "markdown",
     "checksum": "de28642cd8e1d51888796fbfa44f42d0",
     "grade": false,
     "grade_id": "cell-d20ef0efe75c99e8",
     "locked": true,
     "schema_version": 3,
     "solution": false,
     "task": false
    }
   },
   "source": [
    "**(d)**\n",
    "Use SymPy to find the exact value of the integral \n",
    "$$\n",
    "\\int_{-1}^{1} \\int_{-1}^{1} F_n(x,y)dx dy.\n",
    "$$\n",
    "\n",
    "for $n=3$ and $4$. Write your code to compute the integrals for a general $n$ in the function below. \n",
    "There will be a visible test for $n=3$ and a hidden test for $n=4$. "
   ]
  },
  {
   "cell_type": "code",
   "execution_count": 93,
   "metadata": {
    "deletable": false,
    "nbgrader": {
     "cell_type": "code",
     "checksum": "5b346e732b8648cfcdfd07d46caec01e",
     "grade": false,
     "grade_id": "cell-0551ae10a9329aa5",
     "locked": false,
     "schema_version": 3,
     "solution": true,
     "task": false
    }
   },
   "outputs": [],
   "source": [
    "import sympy\n",
    "def compute_integral(n):\n",
    "    def evalF(n, x, y):\n",
    "        x, y = symbols('x y')\n",
    "  \n",
    "        if n == 1:\n",
    "            F = x/2-y**2\n",
    "        if n == 0:\n",
    "            F = 1 \n",
    "        if n >= 2:\n",
    "            F = (2*(n-1)*x*y*evalF(n-1,x,y)-(2*n-1)*evalF(n-2,x,y))/(2*(n-1)**2)\n",
    "        return F\n",
    "    \n",
    "    F1= sympy.integrate(evalF(n, x, y), (x, -1, 1))\n",
    "    F2= sympy.integrate(F1,(y, -1, 1))\n",
    "    return F2"
   ]
  },
  {
   "cell_type": "code",
   "execution_count": 94,
   "metadata": {
    "deletable": false,
    "editable": false,
    "nbgrader": {
     "cell_type": "code",
     "checksum": "b48dd58afed9a331e0ad1df35741526f",
     "grade": true,
     "grade_id": "cell-730746a12e0c1148",
     "locked": true,
     "points": 3,
     "schema_version": 3,
     "solution": false,
     "task": false
    }
   },
   "outputs": [],
   "source": [
    "# Marks: 3\n",
    "# Test that the compute_integral produces the correct output for n=3\n",
    "from nose.tools import assert_equal\n",
    "import sympy\n",
    "# Test for n=3\n",
    "assert_equal(compute_integral(3),sympy.QQ(7)/sympy.QQ(10))\n",
    "# Hidden test for n=4"
   ]
  },
  {
   "cell_type": "code",
   "execution_count": 95,
   "metadata": {
    "deletable": false,
    "editable": false,
    "nbgrader": {
     "cell_type": "code",
     "checksum": "af6a62779d6d7c3618de897b0fbbe6ca",
     "grade": true,
     "grade_id": "cell-2b52f73914c48c10",
     "locked": true,
     "points": 2,
     "schema_version": 3,
     "solution": false,
     "task": false
    }
   },
   "outputs": [],
   "source": [
    "# Marks: 2\n",
    "# Hidden Test that the compute_integral produces the correct output for n=4\n",
    "from nose.tools import assert_equal\n",
    "import sympy"
   ]
  },
  {
   "cell_type": "markdown",
   "metadata": {
    "deletable": false,
    "editable": false,
    "nbgrader": {
     "cell_type": "markdown",
     "checksum": "6936d542ed754988d3aedbb06565a17a",
     "grade": false,
     "grade_id": "cell-54e92d7c3afea33c",
     "locked": true,
     "schema_version": 3,
     "solution": false,
     "task": false
    }
   },
   "source": [
    "## Question 3 [LMA]\n",
    "\n",
    "The Gram-Schmidt process is an algorithm which can be used to construct a set of vectors $\\{\\mathbf{w}_i\\}$ which are **orthonormal**, in other words they are pairwise orthogonal to each other and have lengths equal to 1. This condition can be  expressed in terms of the standard Euclidean scalar (or \"dot\") product as \n",
    "\n",
    "$$\n",
    "\\mathbf{w}_i \\cdot \\mathbf{w}_j = \n",
    "\\begin{cases}\n",
    "1 & \\text{if } i = j,\\\\\n",
    "0 & \\text{if } i\\ne j.\n",
    "\\end{cases}\n",
    "$$\n",
    "\n",
    "If the input to the Gram-Schmidt process is a set of $n$ linearly independent vectors $\\{ \\mathbf{v}_i \\mid i=1,\\ldots,n\\}$ in $\\mathbb{R}^{n}$, then the output will be a set of $n$ orthonormal vectors $\\{\\mathbf{w}_i \\mid i=1,\\ldots,n\\}$ in $\\mathbb{R}^{n}$.\n",
    "\n",
    "In general, if the input vectors are not all linearly independent, then the output will be a set of $n$ vectors containing an orthonormal basis for the linear span of the vectors $\\{ \\mathbf{v}_i\\}$ together with a number of zero-vectors.\n",
    "\n",
    "The method is summarised by the following instructions:\n",
    "- Construct an orthogonal set of vectors $\\{\\mathbf{w}_i\\}$ using the formula: $\\mathbf{w}_1=\\mathbf{v}_1$ and \n",
    "\n",
    "$$\n",
    "\\mathbf{w}_i = \\mathbf{v}_i - \\sum_{j=1}^{i-1} \\frac{\\mathbf{v}_i\\cdot \\mathbf{w}_j}{\\| \\mathbf{w}_j\\|}\\mathbf{w}_j,\\quad i>1.\n",
    "$$\n",
    "\n",
    "- If $\\mathbf{w}_i$ from the previous step is not the zero vector $\\mathbf{0}$, normalise it to have length 1 by setting \n",
    "\n",
    "$$\n",
    "\\mathbf{w}_i = \\frac{\\mathbf{w}_i}{\\|\\mathbf{w}_i \\|}.\n",
    "$$\n"
   ]
  },
  {
   "cell_type": "markdown",
   "metadata": {
    "deletable": false,
    "editable": false,
    "nbgrader": {
     "cell_type": "markdown",
     "checksum": "c8809d0e93cabf0d78f368e6c211baf8",
     "grade": false,
     "grade_id": "cell-3633436f317474ca",
     "locked": true,
     "schema_version": 3,
     "solution": false,
     "task": false
    }
   },
   "source": [
    "**(a) [10 marks]**\n",
    "Write a function `gram_schmidt_np` which takes an $n \\times n$ matrix $V$ given as NumPy array as an input, where the columns of $V$ represent the set of $n$-dimensional vectors $\\{\\mathbf{v}_i\\}$, then uses the Gram-Schmidt process to construct an orthonormal set of vectors $\\{\\mathbf{w}_i\\}$, which are output as the columns of the matrix $W$.\n",
    "\n",
    "- Your function should check that the input V is a square matrix of type np.ndarray, and raise a ValueError if not.\n",
    "- In the normalisation step you can check if $w_i$ has norm less than $1\\cdot 10^{-10}$ instead of checking if it is exactly 0 and in this case just replace it by the zero vector instead of normalising it. \n"
   ]
  },
  {
   "cell_type": "code",
   "execution_count": 62,
   "metadata": {
    "deletable": false,
    "nbgrader": {
     "cell_type": "code",
     "checksum": "ebed4d2cdfe6c75caa70ff22de191105",
     "grade": false,
     "grade_id": "cell-2c038394d0ebff43",
     "locked": false,
     "schema_version": 3,
     "solution": true,
     "task": false
    }
   },
   "outputs": [],
   "source": [
    "import numpy as np\n",
    "def gram_schmidt_np(V):\n",
    "    \n",
    "    if V.shape[0]!=V.shape[1] or type(V)!= np.ndarray:\n",
    "        raise ValueError()\n",
    "    \n",
    "    w = V[0]\n",
    "    if (np.linalg.norm(w) <= 1*10**(-10)):\n",
    "        w = np.zeros(w.shape)\n",
    "    else:\n",
    "        w = w/np.linalg.norm(w)\n",
    "    basis = [w, ]\n",
    "    for v in V[1:]:\n",
    "        #print(\"basis=\",basis)\n",
    "        w = v - np.sum( np.dot((np.dot(v,b) b))  for b in basis)\n",
    "        if (np.linalg.norm(w) <= 1*10**(-10)):\n",
    "            w = np.zeros(w.shape)\n",
    "        else:\n",
    "            w = w/np.linalg.norm(w)\n",
    "        #print(\"w=\",w)\n",
    "        basis.append(w)\n",
    "    A = np.array(basis)\n",
    "    #A.reshape(V.shape[0],V.shape[1])\n",
    "    return A\n",
    "            "
   ]
  },
  {
   "cell_type": "code",
   "execution_count": 67,
   "metadata": {
    "deletable": false,
    "editable": false,
    "nbgrader": {
     "cell_type": "code",
     "checksum": "4a20b232b1547797a93e50d24ff6fe30",
     "grade": true,
     "grade_id": "cell-0eb1f34611a7be75",
     "locked": true,
     "points": 3,
     "schema_version": 3,
     "solution": false,
     "task": false
    }
   },
   "outputs": [
    {
     "name": "stderr",
     "output_type": "stream",
     "text": [
      "<ipython-input-62-ecd94aa28e6b>:15: DeprecationWarning: Calling np.sum(generator) is deprecated, and in the future will give a different result. Use np.sum(np.fromiter(generator)) or the python sum builtin instead.\n",
      "  w = v - np.sum( (np.dot(v,b) * b)  for b in basis)\n"
     ]
    }
   ],
   "source": [
    "# Marks: 2\n",
    "from nose.tools import assert_almost_equal\n",
    "import numpy as np\n",
    "# Check that it works for a specific matrix V of linearly independent vectors.\n",
    "#V = np.array([[1,2],[3,4]])\n",
    "V = np.array([[1,3],[2,4]]) #这样是对的\n",
    "W = np.array([[ 0.31622777,  0.9486833 ],[ 0.9486833, -0.31622777]])\n",
    "W1 = gram_schmidt_np(V)\n",
    "# print(\"W=\",W1)\n",
    "# print(\"defference=\",W1 - W)\n",
    "difference = np.linalg.norm(W1-W)\n",
    "assert_almost_equal(difference,0,delta=1e-8)"
   ]
  },
  {
   "cell_type": "code",
   "execution_count": 66,
   "metadata": {
    "deletable": false,
    "editable": false,
    "nbgrader": {
     "cell_type": "code",
     "checksum": "baa62d20e2ee58670a10418d64f0555a",
     "grade": true,
     "grade_id": "cell-e7e4ba4c4a50dab2",
     "locked": true,
     "points": 3,
     "schema_version": 3,
     "solution": false,
     "task": false
    }
   },
   "outputs": [
    {
     "name": "stdout",
     "output_type": "stream",
     "text": [
      "[[0.4472136  0.89442719]\n",
      " [0.         0.        ]]\n",
      "[[-4.50004206e-09  8.94427191e-01]\n",
      " [-8.94427190e-01  0.00000000e+00]]\n",
      "<ipython-input-62-ecd94aa28e6b>:15: DeprecationWarning: Calling np.sum(generator) is deprecated, and in the future will give a different result. Use np.sum(np.fromiter(generator)) or the python sum builtin instead.\n",
      "  w = v - np.sum( (np.dot(v,b) * b)  for b in basis)\n"
     ]
    },
    {
     "ename": "AssertionError",
     "evalue": "1.2649110633603045 != 0 within 1e-08 delta (1.2649110633603045 difference)",
     "output_type": "error",
     "traceback": [
      "\u001b[1;31m---------------------------------------------------------------------------\u001b[0m",
      "\u001b[1;31mAssertionError\u001b[0m                            Traceback (most recent call last)",
      "\u001b[1;32m<ipython-input-66-8e97de07f4a7>\u001b[0m in \u001b[0;36m<module>\u001b[1;34m\u001b[0m\n\u001b[0;32m      9\u001b[0m \u001b[0mprint\u001b[0m\u001b[1;33m(\u001b[0m\u001b[0mW\u001b[0m\u001b[1;33m-\u001b[0m\u001b[0mW1\u001b[0m\u001b[1;33m)\u001b[0m\u001b[1;33m\u001b[0m\u001b[1;33m\u001b[0m\u001b[0m\n\u001b[0;32m     10\u001b[0m \u001b[0mdifference\u001b[0m \u001b[1;33m=\u001b[0m \u001b[0mnp\u001b[0m\u001b[1;33m.\u001b[0m\u001b[0mlinalg\u001b[0m\u001b[1;33m.\u001b[0m\u001b[0mnorm\u001b[0m\u001b[1;33m(\u001b[0m\u001b[0mW1\u001b[0m\u001b[1;33m-\u001b[0m\u001b[0mW\u001b[0m\u001b[1;33m)\u001b[0m\u001b[1;33m\u001b[0m\u001b[1;33m\u001b[0m\u001b[0m\n\u001b[1;32m---> 11\u001b[1;33m \u001b[0massert_almost_equal\u001b[0m\u001b[1;33m(\u001b[0m\u001b[0mdifference\u001b[0m\u001b[1;33m,\u001b[0m\u001b[1;36m0\u001b[0m\u001b[1;33m,\u001b[0m\u001b[0mdelta\u001b[0m\u001b[1;33m=\u001b[0m\u001b[1;36m1e-8\u001b[0m\u001b[1;33m)\u001b[0m\u001b[1;33m\u001b[0m\u001b[1;33m\u001b[0m\u001b[0m\n\u001b[0m",
      "\u001b[1;32m~\\anaconda3\\lib\\unittest\\case.py\u001b[0m in \u001b[0;36massertAlmostEqual\u001b[1;34m(self, first, second, places, msg, delta)\u001b[0m\n\u001b[0;32m    964\u001b[0m                 safe_repr(diff))\n\u001b[0;32m    965\u001b[0m         \u001b[0mmsg\u001b[0m \u001b[1;33m=\u001b[0m \u001b[0mself\u001b[0m\u001b[1;33m.\u001b[0m\u001b[0m_formatMessage\u001b[0m\u001b[1;33m(\u001b[0m\u001b[0mmsg\u001b[0m\u001b[1;33m,\u001b[0m \u001b[0mstandardMsg\u001b[0m\u001b[1;33m)\u001b[0m\u001b[1;33m\u001b[0m\u001b[1;33m\u001b[0m\u001b[0m\n\u001b[1;32m--> 966\u001b[1;33m         \u001b[1;32mraise\u001b[0m \u001b[0mself\u001b[0m\u001b[1;33m.\u001b[0m\u001b[0mfailureException\u001b[0m\u001b[1;33m(\u001b[0m\u001b[0mmsg\u001b[0m\u001b[1;33m)\u001b[0m\u001b[1;33m\u001b[0m\u001b[1;33m\u001b[0m\u001b[0m\n\u001b[0m\u001b[0;32m    967\u001b[0m \u001b[1;33m\u001b[0m\u001b[0m\n\u001b[0;32m    968\u001b[0m     def assertNotAlmostEqual(self, first, second, places=None, msg=None,\n",
      "\u001b[1;31mAssertionError\u001b[0m: 1.2649110633603045 != 0 within 1e-08 delta (1.2649110633603045 difference)"
     ]
    }
   ],
   "source": [
    "# Marks: 3\n",
    "from nose.tools import assert_almost_equal\n",
    "import numpy as np\n",
    "# Check that it works for a case when vectors are linearly dependent\n",
    "V = np.array([[1,2],[2,4]])\n",
    "W = gram_schmidt_np(V)\n",
    "W1 = np.array([[0.4472136 , 0.        ], [0.89442719, 0.        ]])\n",
    "print(W)\n",
    "print(W-W1)\n",
    "difference = np.linalg.norm(W1-W)\n",
    "assert_almost_equal(difference,0,delta=1e-8)"
   ]
  },
  {
   "cell_type": "code",
   "execution_count": 166,
   "metadata": {
    "deletable": false,
    "editable": false,
    "nbgrader": {
     "cell_type": "code",
     "checksum": "4b557956ed4be9dbc5c76b257dc0a0e1",
     "grade": true,
     "grade_id": "cell-ade454bdd04d761c",
     "locked": true,
     "points": 2,
     "schema_version": 3,
     "solution": false,
     "task": false
    }
   },
   "outputs": [],
   "source": [
    "# Marks: 3\n",
    "from nose.tools import assert_almost_equal\n",
    "import numpy as np"
   ]
  },
  {
   "cell_type": "code",
   "execution_count": 167,
   "metadata": {
    "deletable": false,
    "editable": false,
    "nbgrader": {
     "cell_type": "code",
     "checksum": "e6398b2c7879c97b0abf5825b0631fb0",
     "grade": true,
     "grade_id": "cell-d23c23d8b7f903cd",
     "locked": true,
     "points": 2,
     "schema_version": 3,
     "solution": false,
     "task": false
    }
   },
   "outputs": [
    {
     "ename": "AttributeError",
     "evalue": "'int' object has no attribute 'shape'",
     "output_type": "error",
     "traceback": [
      "\u001b[0;31m---------------------------------------------------------------------------\u001b[0m",
      "\u001b[0;31mAttributeError\u001b[0m                            Traceback (most recent call last)",
      "\u001b[0;32m<ipython-input-167-e8526a7dbed6>\u001b[0m in \u001b[0;36m<module>\u001b[0;34m\u001b[0m\n\u001b[1;32m      2\u001b[0m \u001b[0;31m# Check that errors are raised for wrong input.\u001b[0m\u001b[0;34m\u001b[0m\u001b[0;34m\u001b[0m\u001b[0;34m\u001b[0m\u001b[0m\n\u001b[1;32m      3\u001b[0m \u001b[0;32mfrom\u001b[0m \u001b[0mnose\u001b[0m\u001b[0;34m.\u001b[0m\u001b[0mtools\u001b[0m \u001b[0;32mimport\u001b[0m \u001b[0massert_raises\u001b[0m\u001b[0;34m\u001b[0m\u001b[0;34m\u001b[0m\u001b[0m\n\u001b[0;32m----> 4\u001b[0;31m \u001b[0massert_raises\u001b[0m\u001b[0;34m(\u001b[0m\u001b[0mValueError\u001b[0m\u001b[0;34m,\u001b[0m\u001b[0mgram_schmidt_np\u001b[0m\u001b[0;34m,\u001b[0m\u001b[0;36m1\u001b[0m\u001b[0;34m)\u001b[0m\u001b[0;34m\u001b[0m\u001b[0;34m\u001b[0m\u001b[0m\n\u001b[0m\u001b[1;32m      5\u001b[0m \u001b[0massert_raises\u001b[0m\u001b[0;34m(\u001b[0m\u001b[0mValueError\u001b[0m\u001b[0;34m,\u001b[0m\u001b[0mgram_schmidt_np\u001b[0m\u001b[0;34m,\u001b[0m\u001b[0mnp\u001b[0m\u001b[0;34m.\u001b[0m\u001b[0marray\u001b[0m\u001b[0;34m(\u001b[0m\u001b[0;34m[\u001b[0m\u001b[0;34m[\u001b[0m\u001b[0;36m1\u001b[0m\u001b[0;34m,\u001b[0m\u001b[0;36m2\u001b[0m\u001b[0;34m]\u001b[0m\u001b[0;34m,\u001b[0m\u001b[0;34m[\u001b[0m\u001b[0;36m3\u001b[0m\u001b[0;34m,\u001b[0m\u001b[0;36m4\u001b[0m\u001b[0;34m]\u001b[0m\u001b[0;34m,\u001b[0m\u001b[0;34m[\u001b[0m\u001b[0;36m5\u001b[0m\u001b[0;34m,\u001b[0m\u001b[0;36m6\u001b[0m\u001b[0;34m]\u001b[0m\u001b[0;34m]\u001b[0m\u001b[0;34m)\u001b[0m\u001b[0;34m)\u001b[0m\u001b[0;34m\u001b[0m\u001b[0;34m\u001b[0m\u001b[0m\n",
      "\u001b[0;32m~/opt/anaconda3/lib/python3.8/unittest/case.py\u001b[0m in \u001b[0;36massertRaises\u001b[0;34m(self, expected_exception, *args, **kwargs)\u001b[0m\n\u001b[1;32m    814\u001b[0m         \u001b[0mcontext\u001b[0m \u001b[0;34m=\u001b[0m \u001b[0m_AssertRaisesContext\u001b[0m\u001b[0;34m(\u001b[0m\u001b[0mexpected_exception\u001b[0m\u001b[0;34m,\u001b[0m \u001b[0mself\u001b[0m\u001b[0;34m)\u001b[0m\u001b[0;34m\u001b[0m\u001b[0;34m\u001b[0m\u001b[0m\n\u001b[1;32m    815\u001b[0m         \u001b[0;32mtry\u001b[0m\u001b[0;34m:\u001b[0m\u001b[0;34m\u001b[0m\u001b[0;34m\u001b[0m\u001b[0m\n\u001b[0;32m--> 816\u001b[0;31m             \u001b[0;32mreturn\u001b[0m \u001b[0mcontext\u001b[0m\u001b[0;34m.\u001b[0m\u001b[0mhandle\u001b[0m\u001b[0;34m(\u001b[0m\u001b[0;34m'assertRaises'\u001b[0m\u001b[0;34m,\u001b[0m \u001b[0margs\u001b[0m\u001b[0;34m,\u001b[0m \u001b[0mkwargs\u001b[0m\u001b[0;34m)\u001b[0m\u001b[0;34m\u001b[0m\u001b[0;34m\u001b[0m\u001b[0m\n\u001b[0m\u001b[1;32m    817\u001b[0m         \u001b[0;32mfinally\u001b[0m\u001b[0;34m:\u001b[0m\u001b[0;34m\u001b[0m\u001b[0;34m\u001b[0m\u001b[0m\n\u001b[1;32m    818\u001b[0m             \u001b[0;31m# bpo-23890: manually break a reference cycle\u001b[0m\u001b[0;34m\u001b[0m\u001b[0;34m\u001b[0m\u001b[0;34m\u001b[0m\u001b[0m\n",
      "\u001b[0;32m~/opt/anaconda3/lib/python3.8/unittest/case.py\u001b[0m in \u001b[0;36mhandle\u001b[0;34m(self, name, args, kwargs)\u001b[0m\n\u001b[1;32m    200\u001b[0m                 \u001b[0mself\u001b[0m\u001b[0;34m.\u001b[0m\u001b[0mobj_name\u001b[0m \u001b[0;34m=\u001b[0m \u001b[0mstr\u001b[0m\u001b[0;34m(\u001b[0m\u001b[0mcallable_obj\u001b[0m\u001b[0;34m)\u001b[0m\u001b[0;34m\u001b[0m\u001b[0;34m\u001b[0m\u001b[0m\n\u001b[1;32m    201\u001b[0m             \u001b[0;32mwith\u001b[0m \u001b[0mself\u001b[0m\u001b[0;34m:\u001b[0m\u001b[0;34m\u001b[0m\u001b[0;34m\u001b[0m\u001b[0m\n\u001b[0;32m--> 202\u001b[0;31m                 \u001b[0mcallable_obj\u001b[0m\u001b[0;34m(\u001b[0m\u001b[0;34m*\u001b[0m\u001b[0margs\u001b[0m\u001b[0;34m,\u001b[0m \u001b[0;34m**\u001b[0m\u001b[0mkwargs\u001b[0m\u001b[0;34m)\u001b[0m\u001b[0;34m\u001b[0m\u001b[0;34m\u001b[0m\u001b[0m\n\u001b[0m\u001b[1;32m    203\u001b[0m         \u001b[0;32mfinally\u001b[0m\u001b[0;34m:\u001b[0m\u001b[0;34m\u001b[0m\u001b[0;34m\u001b[0m\u001b[0m\n\u001b[1;32m    204\u001b[0m             \u001b[0;31m# bpo-23890: manually break a reference cycle\u001b[0m\u001b[0;34m\u001b[0m\u001b[0;34m\u001b[0m\u001b[0;34m\u001b[0m\u001b[0m\n",
      "\u001b[0;32m<ipython-input-162-91345f1154a3>\u001b[0m in \u001b[0;36mgram_schmidt_np\u001b[0;34m(***failed resolving arguments***)\u001b[0m\n\u001b[1;32m      2\u001b[0m \u001b[0;32mdef\u001b[0m \u001b[0mgram_schmidt_np\u001b[0m\u001b[0;34m(\u001b[0m\u001b[0mV\u001b[0m\u001b[0;34m)\u001b[0m\u001b[0;34m:\u001b[0m\u001b[0;34m\u001b[0m\u001b[0;34m\u001b[0m\u001b[0m\n\u001b[1;32m      3\u001b[0m \u001b[0;34m\u001b[0m\u001b[0m\n\u001b[0;32m----> 4\u001b[0;31m     \u001b[0;32mif\u001b[0m \u001b[0mV\u001b[0m\u001b[0;34m.\u001b[0m\u001b[0mshape\u001b[0m\u001b[0;34m[\u001b[0m\u001b[0;36m0\u001b[0m\u001b[0;34m]\u001b[0m\u001b[0;34m!=\u001b[0m\u001b[0mV\u001b[0m\u001b[0;34m.\u001b[0m\u001b[0mshape\u001b[0m\u001b[0;34m[\u001b[0m\u001b[0;36m1\u001b[0m\u001b[0;34m]\u001b[0m \u001b[0;32mor\u001b[0m \u001b[0mtype\u001b[0m\u001b[0;34m(\u001b[0m\u001b[0mV\u001b[0m\u001b[0;34m)\u001b[0m\u001b[0;34m!=\u001b[0m \u001b[0mnp\u001b[0m\u001b[0;34m.\u001b[0m\u001b[0mndarray\u001b[0m\u001b[0;34m:\u001b[0m\u001b[0;34m\u001b[0m\u001b[0;34m\u001b[0m\u001b[0m\n\u001b[0m\u001b[1;32m      5\u001b[0m         \u001b[0;32mraise\u001b[0m \u001b[0mValueError\u001b[0m\u001b[0;34m(\u001b[0m\u001b[0;34m)\u001b[0m\u001b[0;34m\u001b[0m\u001b[0;34m\u001b[0m\u001b[0m\n\u001b[1;32m      6\u001b[0m \u001b[0;34m\u001b[0m\u001b[0m\n",
      "\u001b[0;31mAttributeError\u001b[0m: 'int' object has no attribute 'shape'"
     ]
    }
   ],
   "source": [
    "# Marks: 3\n",
    "# Check that errors are raised for wrong input.\n",
    "from nose.tools import assert_raises\n",
    "assert_raises(ValueError,gram_schmidt_np,1)\n",
    "assert_raises(ValueError,gram_schmidt_np,np.array([[1,2],[3,4],[5,6]]))"
   ]
  },
  {
   "cell_type": "markdown",
   "metadata": {
    "deletable": false,
    "editable": false,
    "nbgrader": {
     "cell_type": "markdown",
     "checksum": "1c215a2f728ad8b29b526348c7936e86",
     "grade": false,
     "grade_id": "cell-2590229acd17542d",
     "locked": true,
     "schema_version": 3,
     "solution": false,
     "task": false
    }
   },
   "source": [
    "Instead of using NumPy for working with vectors it is also posible to use SymPy.\n",
    "\n",
    "**(b) [10 marks]** \n",
    "\n",
    "Write a function `gram_schmidt_sp` which takes an $n \\times n$ square matrix $V$ given as a SymPy Matrix as input, where the columns of $V$ represent the set of $n$-dimensional vectors $\\{\\mathbf{v}_i\\}$, then uses the Gram-Schmidt process to construct an orthonormal set of vectors $\\{\\mathbf{w}_i\\}$, which are output as the columns of a new $n\\times n$ square SymPy  matrix $W$.\n",
    "- Your function should check that the input V is a square matrix of type sympy.Matrix, and raise a ValueError if not.\n",
    "\n",
    "Note: while the algorithm is the same as above you will need to figure out for yourself how to extract columns from a SymPy matrix (the columns will themselves be $n \\times 1$ matrices), how to take the dot product and norm of a SymPy matrix and how to join columns to make a new SymPy matrix. (Hint: The function sympy.Matrix.row_join can be useful.)"
   ]
  },
  {
   "cell_type": "code",
   "execution_count": null,
   "metadata": {
    "deletable": false,
    "nbgrader": {
     "cell_type": "code",
     "checksum": "7772ba544a4844c6c02ccbd4d3dc8d48",
     "grade": false,
     "grade_id": "cell-a26a550fe2ca1c0c",
     "locked": false,
     "schema_version": 3,
     "solution": true,
     "task": false
    }
   },
   "outputs": [],
   "source": [
    "import sympy\n",
    "def gram_schmidt_sp(V):\n",
    "    # YOUR CODE HERE\n",
    "    raise NotImplementedError()"
   ]
  },
  {
   "cell_type": "code",
   "execution_count": null,
   "metadata": {
    "deletable": false,
    "editable": false,
    "nbgrader": {
     "cell_type": "code",
     "checksum": "4e7430c79e6c6bc457f47528e2a63ba4",
     "grade": true,
     "grade_id": "cell-a61ea02026825428",
     "locked": true,
     "points": 3,
     "schema_version": 3,
     "solution": false,
     "task": false
    }
   },
   "outputs": [],
   "source": [
    "# Marks: 3\n",
    "from nose.tools import assert_equal\n",
    "import sympy\n",
    "# Test that it works for a specific matrix V\n",
    "V = sympy.Matrix([[1,2],[3,4]])\n",
    "W = sympy.Matrix([[sympy.sqrt(10)/10, 3*sympy.sqrt(10)/10], [3*sympy.sqrt(10)/10, -sympy.sqrt(10)/10]])\n",
    "W1 = gram_schmidt_sp(V)\n",
    "assert_equal(W-W1,sympy.zeros(2,2))"
   ]
  },
  {
   "cell_type": "code",
   "execution_count": null,
   "metadata": {
    "deletable": false,
    "editable": false,
    "nbgrader": {
     "cell_type": "code",
     "checksum": "0bdacf9779dbc4fb336d27b68711c4a0",
     "grade": true,
     "grade_id": "cell-75aa51ccb385b6d8",
     "locked": true,
     "points": 3,
     "schema_version": 3,
     "solution": false,
     "task": false
    }
   },
   "outputs": [],
   "source": [
    "# Marks: 3\n",
    "from nose.tools import assert_equal\n",
    "import sympy\n",
    "# Check that it works for a case when vectors that are linearly dependent\n",
    "V = sympy.Matrix([[1,2],[2,4]])\n",
    "W = sympy.Matrix([[sympy.sqrt(5)/5, 0], [2*sympy.sqrt(5)/5, 0]])\n",
    "W1 = gram_schmidt_sp(V)\n",
    "assert_equal(W-W1,sympy.zeros(2,2))\n"
   ]
  },
  {
   "cell_type": "code",
   "execution_count": null,
   "metadata": {
    "deletable": false,
    "editable": false,
    "nbgrader": {
     "cell_type": "code",
     "checksum": "728929fa7ef14e70f6b616ee585c5821",
     "grade": true,
     "grade_id": "cell-6b541eaac550c772",
     "locked": true,
     "points": 2,
     "schema_version": 3,
     "solution": false,
     "task": false
    }
   },
   "outputs": [],
   "source": [
    "# Marks: 2\n",
    "from nose.tools import assert_equal\n",
    "import sympy\n",
    "# Hidden test that it works for another matrix input."
   ]
  },
  {
   "cell_type": "code",
   "execution_count": null,
   "metadata": {
    "deletable": false,
    "editable": false,
    "nbgrader": {
     "cell_type": "code",
     "checksum": "0375ed3dee0c0c033e2f6fff1e410e4c",
     "grade": true,
     "grade_id": "cell-51db1d9629d2a80f",
     "locked": true,
     "points": 2,
     "schema_version": 3,
     "solution": false,
     "task": false
    }
   },
   "outputs": [],
   "source": [
    "# Marks: 2\n",
    "from nose.tools import assert_raises\n",
    "import sympy\n",
    "# Check that errors are raised for wrong input.\n",
    "import sympy\n",
    "assert_raises(ValueError,gram_schmidt_sp,1)\n",
    "assert_raises(ValueError,gram_schmidt_sp,sympy.Matrix([[1,2],[3,4],[5,6]]))"
   ]
  }
 ],
 "metadata": {
  "kernelspec": {
   "display_name": "Python 3.8.5 64-bit ('base': conda)",
   "name": "python385jvsc74a57bd085ba38aa31c1d3e56992c70f8684e8de2adb5096bd7483a6ffdae4eb4757f752"
  },
  "language_info": {
   "codemirror_mode": {
    "name": "ipython",
    "version": 3
   },
   "file_extension": ".py",
   "mimetype": "text/x-python",
   "name": "python",
   "nbconvert_exporter": "python",
   "pygments_lexer": "ipython3",
   "version": "3.8.5"
  }
 },
 "nbformat": 4,
 "nbformat_minor": 4
}
