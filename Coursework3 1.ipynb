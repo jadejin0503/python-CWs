{
 "cells": [
  {
   "cell_type": "markdown",
   "metadata": {
    "deletable": false,
    "editable": false,
    "nbgrader": {
     "cell_type": "markdown",
     "checksum": "0435308149edc3ca55cf69dc15d5d66c",
     "grade": false,
     "grade_id": "cell-731ac646155705ac",
     "locked": true,
     "schema_version": 3,
     "solution": false,
     "task": false
    }
   },
   "source": [
    "# Coursework 3 #\n",
    "\n",
    "There are three questions below, each associated to one of the core modules, Analytical and Computational foundations (ACF), Calculus (CAL) and Linear Mathematics (LMA).\n",
    "\n",
    "### Marks \n",
    "- Each of the question is worth in total 15 marks. \n",
    "- The marks are divided amongst different sub-questions and a certain number of marks is assigned to a particular test or task. \n",
    "- The number of marks asssociated with test-cell is indicated in a comment at the top of that cell.\n",
    "- The number of marks associated to a manually marked taks. (like drawing a graph) is indicated in the text immediately above this cell. \n",
    "\n",
    "#### How to Answer\n",
    "Write your code in the \"answer\" cell where it says \"# YOUR CODE HERE\"\n",
    "and remove both the line \"# YOUR CODE HERE\" and the line \"raise NotImplementedError()\"\n",
    "\n",
    "**Important**: Do not change the name or remove the existing function and write all your code \"inside\" the existing function, i.e. with at least one-tab's indentation.\n",
    "\n",
    "\n",
    "When you have written your code you should evaluate the cell and then evaluate the \"Test\" cells following it. If you don't see any errors then your code is (hopefully) correct and you can go on to the next question. \n",
    "\n",
    "If you see some errors then you have to go back and edit your code and try to fix the \"bug\". \n",
    "\n",
    "\n",
    "\n",
    "## Question 1 [ACF]\n",
    "\n",
    "The Babylonian (or Heron’s) method for computing the square root of \n",
    "$a\\in\\mathbb{R}^{+}$ is summarised by the iterative sequence $(x_{n})$, where $x_{0}$ is an arbitrary starting value (ideally, $x_{0}\\approx\\sqrt{a}$, but this is not required) and \n",
    "$$\n",
    "x_{n+1}=\\frac{1}{2}\\left(x_{n}+\\frac{a}{x_{n}}\\right).\n",
    "$$\n",
    "\n",
    "Successive values are computed for $x_{n}$ until the desired level of accuracy is reached. Hence, if we desire the maximum error to be $e$, we stop when $n=N$, where \n",
    "$$\n",
    "\\left|x_{N}^{2}-a\\right|<e.\n",
    "$$\n",
    "\n",
    "**a)**\n",
    "\n",
    "Write a Python function called ‘babylonian_square_root' that \n",
    "- Takes as input three numbers $a$, $e$ and $x_{0}$. \n",
    "- Raises an assertion error if $a$ or $e$ are not positive numbers.\n",
    "- Uses the Babylonian method to estimate $\\sqrt{a}$ with maximum error $e$. \n",
    "- Returns the tuple $(x_{N},N)$ where $x_{N}$ is the sought approximation.\n",
    "\n",
    "**[7 marks]**"
   ]
  },
  {
   "cell_type": "code",
   "execution_count": 27,
   "metadata": {
    "deletable": false,
    "nbgrader": {
     "cell_type": "code",
     "checksum": "95f341af42c7ca2dcfeb3e965f60b7d8",
     "grade": false,
     "grade_id": "cell-e5434e181ad04fdc",
     "locked": false,
     "schema_version": 3,
     "solution": true,
     "task": false
    }
   },
   "outputs": [],
   "source": [
    "def babylonian_square_root(a,e,x0):\n",
    "    if a <= 0 or e <= 0:\n",
    "        raise AssertionError()\n",
    "    n = 0\n",
    "    xn = x0\n",
    "    while abs(xn**2-a) >= e:\n",
    "        xn = (xn+a/xn)/2\n",
    "        n += 1\n",
    "    return (abs(xn), n)\n"
   ]
  },
  {
   "cell_type": "code",
   "execution_count": 28,
   "metadata": {
    "deletable": false,
    "editable": false,
    "nbgrader": {
     "cell_type": "code",
     "checksum": "0d28d6bea9be4dfd0679d09d71368c91",
     "grade": true,
     "grade_id": "cell-009a5fd7ee1ec601",
     "locked": true,
     "points": 5,
     "schema_version": 3,
     "solution": false,
     "task": false
    }
   },
   "outputs": [],
   "source": [
    "# [5 marks]\n",
    "from nose.tools import assert_equal,assert_almost_equal\n",
    "import math\n",
    "# Check that the function returns a tuple\n",
    "assert_equal(type(babylonian_square_root(2.0,1e-10,1)),tuple)\n",
    "# Check that the function returns a tuple of length 2\n",
    "assert_equal(len(babylonian_square_root(2.0,1e-10,1)),2)\n",
    "# Check that we return sqrt(2) if we start with 1\n",
    "assert_almost_equal(babylonian_square_root(2.0,1e-10,1)[0],1.4142135623730951,8)  \n",
    "# check that we return sqrt(2) also for starting with -1 \n",
    "assert_almost_equal(babylonian_square_root(2.0,1e-10,-1)[0],1.4142135623730951,8)  \n",
    "\n"
   ]
  },
  {
   "cell_type": "code",
   "execution_count": 29,
   "metadata": {
    "deletable": false,
    "editable": false,
    "nbgrader": {
     "cell_type": "code",
     "checksum": "dac1931bc61c56282ec00e2d712dc1e8",
     "grade": true,
     "grade_id": "cell-3b285572fe5745df",
     "locked": true,
     "points": 2,
     "schema_version": 3,
     "solution": false,
     "task": false
    }
   },
   "outputs": [],
   "source": [
    "# [2 marks]\n",
    "from nose.tools import assert_raises\n",
    "import math\n",
    "assert_raises(AssertionError,babylonian_square_root,-2,1e-10,1)\n"
   ]
  },
  {
   "cell_type": "markdown",
   "metadata": {
    "deletable": false,
    "editable": false,
    "nbgrader": {
     "cell_type": "markdown",
     "checksum": "ea4c1212595beda91d1772820efb5935",
     "grade": false,
     "grade_id": "cell-af86584aee47ff9c",
     "locked": true,
     "schema_version": 3,
     "solution": false,
     "task": false
    }
   },
   "source": [
    "**b)** \n",
    "Write a modified function that returns the whole list of approximations $[x_0,x_1,x_2,\\ldots,x_n]$ **[3 marks]**.\n"
   ]
  },
  {
   "cell_type": "code",
   "execution_count": 48,
   "metadata": {
    "deletable": false,
    "nbgrader": {
     "cell_type": "code",
     "checksum": "1a8948e37b92686f14a179ed65c6b527",
     "grade": false,
     "grade_id": "cell-86251888d5893711",
     "locked": false,
     "schema_version": 3,
     "solution": true,
     "task": false
    }
   },
   "outputs": [],
   "source": [
    "def babylonian_square_root_list(a,e,x0):\n",
    "    # YOUR CODE HERE\n",
    "    if a <= 0 or e <= 0:\n",
    "        raise AssertionError()\n",
    "    n = 0\n",
    "    xn = x0\n",
    "    x = [xn]\n",
    "    while abs(xn**2-a) >= e:\n",
    "        xn = (xn+a/xn)/2\n",
    "        n += 1\n",
    "        x.append(xn)\n",
    "    return x"
   ]
  },
  {
   "cell_type": "code",
   "execution_count": 31,
   "metadata": {
    "deletable": false,
    "editable": false,
    "nbgrader": {
     "cell_type": "code",
     "checksum": "d64773ad73c1283c41a2a516cedf5c59",
     "grade": true,
     "grade_id": "cell-f746e8c40e38b2a2",
     "locked": true,
     "points": 3,
     "schema_version": 3,
     "solution": false,
     "task": false
    }
   },
   "outputs": [],
   "source": [
    "# [3 marks]\n",
    "from nose.tools import assert_equal,assert_almost_equal\n",
    "import math\n",
    "# Check that the function returns a list\n",
    "assert_equal(type(babylonian_square_root_list(2.0,1e-10,1)),list)\n",
    "## Check that the first element is the initial element \n",
    "###  Note: a typo in the first version of the sheet said to \n",
    "###        return [x1,x2,...] instead of [x0,x1,...] so the test will accept either, just in case.\n",
    "try:\n",
    "    assert_almost_equal(babylonian_square_root_list(2.0,1e-10,1)[0],1.0,8)  \n",
    "except AssertionError:\n",
    "    assert_almost_equal(babylonian_square_root_list(2.0,1e-10,1)[0],1.5,8)  \n",
    "    \n",
    "# Check that the last element in the list is a good approximation\n",
    "assert_almost_equal(babylonian_square_root_list(2.0,1e-10,1)[-1],1.4142135623730951,8)  \n"
   ]
  },
  {
   "cell_type": "markdown",
   "metadata": {
    "deletable": false,
    "editable": false,
    "nbgrader": {
     "cell_type": "markdown",
     "checksum": "69f8ff83ea97ffe2d026567bef32fe22",
     "grade": false,
     "grade_id": "cell-6283f0cb0882e72f",
     "locked": true,
     "schema_version": 3,
     "solution": false,
     "task": false
    }
   },
   "source": [
    "**c)** Use the function from part b) to compute a list of approximations $(x_n)$ to $\\sqrt{20000}$ and use **pylab** to plot the points $x_n$ against $n$ as a scatterplot and in the same plot also add a horizontal red line corresponding to the value given by `math.sqrt(20000)` as well as appropriate legends for the plot and labels for the $x$ and $y$ axes. Please insert the plot in the cell below the function definition.  **[5 marks]**."
   ]
  },
  {
   "cell_type": "code",
   "execution_count": 32,
   "metadata": {
    "deletable": false,
    "nbgrader": {
     "cell_type": "code",
     "checksum": "47da5e983bbad2589fd547370aec73a1",
     "grade": false,
     "grade_id": "cell-40dc0690bead99f7",
     "locked": false,
     "schema_version": 3,
     "solution": true,
     "task": false
    }
   },
   "outputs": [],
   "source": [
    "import pylab\n",
    "def draw_plot(a):\n",
    "    data = babylonian_square_root_list(a,1e-10,1)\n",
    "    # YOUR CODE HERE\n",
    "    n = [i for i in range(len(data))]\n",
    "    pylab.plot(n, data, \"o\", label=\"approximation\")\n",
    "    pylab.axhline(y=math.sqrt(a), color=\"red\", label=\"true value\")\n",
    "    pylab.xlabel(\"x\")\n",
    "    pylab.ylabel(\"y\")\n",
    "    pylab.legend()\n",
    "    pylab.show()\n",
    "    "
   ]
  },
  {
   "cell_type": "code",
   "execution_count": 33,
   "metadata": {
    "deletable": false,
    "nbgrader": {
     "cell_type": "code",
     "checksum": "252e65ce682e2789ad40f72e0901a420",
     "grade": true,
     "grade_id": "cell-fcbc463f945d83af",
     "locked": false,
     "points": 5,
     "schema_version": 3,
     "solution": true,
     "task": false
    }
   },
   "outputs": [
    {
     "data": {
      "image/png": "[encoded data removed]",
      "text/plain": [
       "<Figure size 432x288 with 1 Axes>"
      ]
     },
     "metadata": {
      "needs_background": "light"
     },
     "output_type": "display_data"
    }
   ],
   "source": [
    "# YOUR CODE HERE\n",
    "draw_plot(20000)"
   ]
  },
  {
   "cell_type": "markdown",
   "metadata": {
    "deletable": false,
    "editable": false,
    "nbgrader": {
     "cell_type": "markdown",
     "checksum": "3f62416c96a2b049e0223ff042cf1c8d",
     "grade": false,
     "grade_id": "cell-8b5cd382f8f8f817",
     "locked": true,
     "schema_version": 3,
     "solution": false,
     "task": false
    }
   },
   "source": [
    "## Question 2 [CAL]\n",
    "The Bernoulli numbers $B_{m}$, where $m=0,1,2,\\ldots$ are a sequence of rational numbers with many applications. \n",
    "The $m$th Bernoulli number can be defined explicitly by \n",
    "$$\n",
    "B_{m}=\\sum_{k=0}^{m}\\sum_{v=0}^{k}(-1)^{v}{k \\choose v}\\frac{v^{m}}{k+1}.\n",
    "$$\n",
    "It is easy to see that $B_0=1$ and it can be shown that $B_{m}=0$ for any odd $m>1$ and the first few non-zero values are\n",
    "\n",
    "$$\n",
    "B_0=1,\\quad B_1=-\\frac{1}{2},\\quad B_2=\\frac{1}{6}=0.166666\\ldots, \\quad B_4=-\\frac{1}{30}=-0.033333\\cdots\n",
    "$$\n",
    "**a)** Write a program which uses the formula above to compute the Bernoulli number $B_{m}$ for $0\\le m\\le 12$. \n",
    "\n",
    "Note that without using higher precision this algorithm is not very good for large $m$ due to catastrophic cancellation.\n",
    "\n",
    "- Hint 1: the binomial coefficient ${k \\choose v}$ is given by `math.comb(k,v)`.\n",
    "- Hint 2: watch the indexes!\n",
    "\n",
    "**[5 marks]**"
   ]
  },
  {
   "cell_type": "code",
   "execution_count": 34,
   "metadata": {
    "deletable": false,
    "nbgrader": {
     "cell_type": "code",
     "checksum": "dce29e63680839e99a81f486bf8d98a3",
     "grade": false,
     "grade_id": "cell-306c43c7c2ad317b",
     "locked": false,
     "schema_version": 3,
     "solution": true,
     "task": false
    }
   },
   "outputs": [],
   "source": [
    "import math\n",
    "def bernoulli(m):\n",
    "    r\"\"\"\n",
    "    A function that uses the `sum` formula to compute $B_m$\n",
    "    \"\"\"\n",
    "    # YOUR CODE HERE\n",
    "    res = 0\n",
    "    for k in range(m+1):\n",
    "        for v in range(k+1):\n",
    "           res +=  (-1)**v * math.comb(k, v) * v**m /(k+1)\n",
    "    return res"
   ]
  },
  {
   "cell_type": "code",
   "execution_count": 35,
   "metadata": {
    "deletable": false,
    "editable": false,
    "nbgrader": {
     "cell_type": "code",
     "checksum": "5f167b87222245148935a698d46c8675",
     "grade": true,
     "grade_id": "cell-43034d20ee0ece10",
     "locked": true,
     "points": 5,
     "schema_version": 3,
     "solution": false,
     "task": false
    }
   },
   "outputs": [],
   "source": [
    "from nose.tools import assert_equal,assert_almost_equal\n",
    "import math\n",
    "assert_equal(bernoulli(0),1)\n",
    "assert_equal(bernoulli(1),-0.5)\n",
    "assert_almost_equal(bernoulli(2),0.166666666666666,6)\n",
    "assert_almost_equal(bernoulli(11),0.0,4)\n",
    "# Note that we only assume that the precision for B_{12} here is 2 digits.\n",
    "assert_almost_equal(bernoulli(12),-0.253113553113553,2)  \n",
    "\n"
   ]
  },
  {
   "cell_type": "markdown",
   "metadata": {
    "deletable": false,
    "editable": false,
    "nbgrader": {
     "cell_type": "markdown",
     "checksum": "849f4e138135ba1c4e8af55f10dc069b",
     "grade": false,
     "grade_id": "cell-b5176200e8e2a114",
     "locked": true,
     "schema_version": 3,
     "solution": false,
     "task": false
    }
   },
   "source": [
    "**b)**\n",
    "The first n terms of the Maclaurin series of tan x are given by \n",
    "\n",
    "$$\n",
    "p_n(x) = \\sum_{k=1}^{n} \\frac{B_{2k}}{(2k)!}(−4)^k(1 − 4^k)x^{2k−1}\n",
    "$$\n",
    "Write a function to calculate $p_n(x)$ that works for at least $n=1,2,3$ **[5 marks]**.\n",
    "\n"
   ]
  },
  {
   "cell_type": "code",
   "execution_count": 36,
   "metadata": {
    "deletable": false,
    "nbgrader": {
     "cell_type": "code",
     "checksum": "cb19d73c8e00395b1d84f36aa061446f",
     "grade": false,
     "grade_id": "cell-eb789979cc9ddd2c",
     "locked": false,
     "schema_version": 3,
     "solution": true,
     "task": false
    }
   },
   "outputs": [],
   "source": [
    "def pn(n,x):\n",
    "    r\"\"\"\n",
    "    Function that computes the $n$-th McLaurin polynomials for $\\tan$ at the point $x$. \n",
    "    \"\"\"\n",
    "    # YOUR CODE HERE\n",
    "    res = 0\n",
    "    for k in range(1,n+1):\n",
    "        counter = 1\n",
    "        for i in range(1, 2*k+1):\n",
    "            counter *= i\n",
    "        res += bernoulli(2*k) * math.pow(-4,k) * (1-math.pow(4,k)) * math.pow(x,2*k-1) / counter\n",
    "    return res"
   ]
  },
  {
   "cell_type": "code",
   "execution_count": 37,
   "metadata": {
    "deletable": false,
    "editable": false,
    "nbgrader": {
     "cell_type": "code",
     "checksum": "8967598a7bc568c0de03dca0916fd499",
     "grade": true,
     "grade_id": "cell-edd2e8efc74e8fe0",
     "locked": true,
     "points": 5,
     "schema_version": 3,
     "solution": false,
     "task": false
    }
   },
   "outputs": [],
   "source": [
    "# [5 marks]\n",
    "from nose.tools import assert_equal,assert_almost_equal\n",
    "import math\n",
    "\n",
    "assert_almost_equal(pn(1,0.5),0.5,8)\n",
    "assert_almost_equal(pn(2,0.5),0.54166666666666,8)\n",
    "assert_almost_equal(pn(3,0.5),0.54583333333333,8)\n"
   ]
  },
  {
   "cell_type": "markdown",
   "metadata": {
    "deletable": false,
    "editable": false,
    "nbgrader": {
     "cell_type": "markdown",
     "checksum": "193bbc1c69328b31fb4533111402a408",
     "grade": false,
     "grade_id": "cell-48f15e83c2929071",
     "locked": true,
     "schema_version": 3,
     "solution": false,
     "task": false
    }
   },
   "source": [
    "**c)** \n",
    "Plot the graphs of $\\tan(x)$, $p_1(x)$, $p_2(x)$ and $p_3(x)$ in the range \n",
    "$-\\frac{\\pi}{3}\\le x\\le \\frac{\\pi}{3}$\n",
    "in the same figure. The figure should have a legend that explains what each of the graphs represent as well as labels for the $x$ and $y$ axes. Please insert the plot in the cell below the function definition. **[5 marks]**\n"
   ]
  },
  {
   "cell_type": "code",
   "execution_count": 38,
   "metadata": {
    "deletable": false,
    "nbgrader": {
     "cell_type": "code",
     "checksum": "729ef603cbae36a9e11edc5720f8ce51",
     "grade": false,
     "grade_id": "cell-45f4e9915776fdc5",
     "locked": false,
     "schema_version": 3,
     "solution": true,
     "task": false
    }
   },
   "outputs": [],
   "source": [
    "import pylab\n",
    "def draw_pn_plot():\n",
    "    r\"\"\"\n",
    "    Function that plots the graphs of \\tan, p_1 and p_3\n",
    "    \"\"\"\n",
    "    # YOUR CODE HERE\n",
    "    x = [-math.pi/3, -math.pi/4, -math.pi/6, -math.pi/12, 0, math.pi/12, math.pi/6, math.pi/4, math.pi/3]\n",
    "    y1 = []\n",
    "    y2 = []\n",
    "    y3 = []\n",
    "    y4 = []\n",
    "    for i in x:\n",
    "        y1.append(math.tan(i))\n",
    "        y2.append(pn(1,i))\n",
    "        y3.append(pn(2,i))\n",
    "        y4.append(pn(3,i))\n",
    "    pylab.plot(x, y1, label=\"tan(x)\")\n",
    "    pylab.plot(x, y2, label=\"p1(x)\")\n",
    "    pylab.plot(x, y3, label=\"p2(x)\")\n",
    "    pylab.plot(x, y4, label=\"p3(x)\")\n",
    "    pylab.xlabel(\"x\")\n",
    "    pylab.ylabel(\"y\")\n",
    "    pylab.legend()\n",
    "    pylab.show()"
   ]
  },
  {
   "cell_type": "code",
   "execution_count": 39,
   "metadata": {
    "deletable": false,
    "nbgrader": {
     "cell_type": "code",
     "checksum": "2e8fd9c47c7267457e46de090fda9c03",
     "grade": true,
     "grade_id": "cell-8414f0d6dafc21ae",
     "locked": false,
     "points": 5,
     "schema_version": 3,
     "solution": true,
     "task": false
    }
   },
   "outputs": [
    {
     "data": {
      "image/png": "[encoded data removed]",
      "text/plain": [
       "<Figure size 432x288 with 1 Axes>"
      ]
     },
     "metadata": {
      "needs_background": "light"
     },
     "output_type": "display_data"
    }
   ],
   "source": [
    "# YOUR CODE HERE\n",
    "draw_pn_plot()"
   ]
  },
  {
   "cell_type": "markdown",
   "metadata": {
    "deletable": false,
    "editable": false,
    "nbgrader": {
     "cell_type": "markdown",
     "checksum": "84bca9303690d8341c282427eb35600e",
     "grade": false,
     "grade_id": "cell-ffd1b8215b030465",
     "locked": true,
     "schema_version": 3,
     "solution": false,
     "task": false
    }
   },
   "source": [
    "## Question 3 [LMA]\n",
    "\n",
    "For this question we will deal with geometry of the plane and we will use tuples to denote points and vectors. \n",
    "More precisely, if $\\bf{v}$ is a vector or point in the plane we represent it by the tuple of coordinates $\\bf{v}=(x,y)$. A similar representation can of course be used for vectors in arbitrary dimensions. \n",
    "\n",
    "We know that a straight line $L$ in the plane is uniquely determined by either of the following:\n",
    "\n",
    "- Two different points $P$ and $Q$ that lie on the line. \n",
    "- A point $P$ on the line together with a direction vector $\\bf{v}$\n",
    "\n",
    "and we will make use of both of these definitions. \n",
    "\n",
    "\n",
    "**a)** Write a function that computes the scalar product of two vectors of arbitrary but equal length.  \n",
    "           The function should Raise an assertion error if the input are not tuples of equal length containing integers or floats **[5 marks]**.\n"
   ]
  },
  {
   "cell_type": "code",
   "execution_count": 40,
   "metadata": {
    "deletable": false,
    "nbgrader": {
     "cell_type": "code",
     "checksum": "6fbabd9277962546e83f784d77700b2b",
     "grade": false,
     "grade_id": "cell-928b75d38d6fe5f1",
     "locked": false,
     "schema_version": 3,
     "solution": true,
     "task": false
    }
   },
   "outputs": [],
   "source": [
    "def scalar_product(v1,v2):\n",
    "    r\"\"\"\n",
    "    Calculate the scalar (dot) product between two vectors, v1 and v2, of arbitrary length.\n",
    "    \"\"\"\n",
    "    # YOUR CODE HERE\n",
    "    if type(v1) != tuple or type(v2) != tuple:\n",
    "        raise AssertionError()\n",
    "    if len(v1) != len(v2):\n",
    "        raise AssertionError()\n",
    "    res = 0\n",
    "    for i in range(len(v1)):\n",
    "        if (type(v1[i]) != int and type(v1[i]) != float) or (type(v2[i]) != int and type(v2[i]) != float):\n",
    "            raise AssertionError()\n",
    "        res += v1[i] * v2[i]\n",
    "    return res\n"
   ]
  },
  {
   "cell_type": "code",
   "execution_count": 41,
   "metadata": {
    "deletable": false,
    "editable": false,
    "nbgrader": {
     "cell_type": "code",
     "checksum": "7dd64bb74b5905cb734f0d40aa6d50f4",
     "grade": true,
     "grade_id": "cell-ce688c52a91885f5",
     "locked": true,
     "points": 3,
     "schema_version": 3,
     "solution": false,
     "task": false
    }
   },
   "outputs": [],
   "source": [
    "# [3 marks]\n",
    "# Check that correct output is returned\n",
    "from nose.tools import assert_equal\n",
    "assert_equal(scalar_product((1,2,0),(-2,1,-1)),0)\n",
    "assert_equal(scalar_product((1,2,1),(-2,1,-1)),-1)\n",
    "assert_equal(scalar_product((1,2,1),(0,0,1)),1)\n",
    "\n",
    "\n",
    "\n"
   ]
  },
  {
   "cell_type": "code",
   "execution_count": 42,
   "metadata": {
    "deletable": false,
    "editable": false,
    "nbgrader": {
     "cell_type": "code",
     "checksum": "c5728ea7269e252606eb7a8a722d8277",
     "grade": true,
     "grade_id": "cell-294594a5f5da639e",
     "locked": true,
     "points": 2,
     "schema_version": 3,
     "solution": false,
     "task": false
    }
   },
   "outputs": [],
   "source": [
    "# [2 marks]\n",
    "# Check that incorrect input is handled by raising error\n",
    "from nose.tools import assert_raises\n",
    "\n",
    "assert_raises(AssertionError,scalar_product,1,2) # not tuples as inout\n",
    "assert_raises(AssertionError,scalar_product,(1,1,2),(1,2)) # tuples of different lengths\n",
    "assert_raises(AssertionError,scalar_product,(1,2),(\"1\",2)) # input are not all floats or ints\n"
   ]
  },
  {
   "cell_type": "markdown",
   "metadata": {
    "deletable": false,
    "editable": false,
    "nbgrader": {
     "cell_type": "markdown",
     "checksum": "bdb216eb0484894c245ef6b3bfbf6287",
     "grade": false,
     "grade_id": "cell-cbab3fd71e7a3728",
     "locked": true,
     "schema_version": 3,
     "solution": false,
     "task": false
    }
   },
   "source": [
    "**b)** Write a program that takes as input two points $P$ and $Q$ in the plane and returns a vector that is perpendicular to the line through $P$ and $Q$ and has length equal to 1 **[5 marks]**"
   ]
  },
  {
   "cell_type": "code",
   "execution_count": 43,
   "metadata": {
    "deletable": false,
    "nbgrader": {
     "cell_type": "code",
     "checksum": "d8d6ea46552e7608a2b64e0ccbf436ff",
     "grade": false,
     "grade_id": "cell-4d0f9c5c5f7a0541",
     "locked": false,
     "schema_version": 3,
     "solution": true,
     "task": false
    }
   },
   "outputs": [],
   "source": [
    "def vector_perpendicular(P,Q):\n",
    "    \"\"\"\n",
    "    Find a vector that is perpendicular to the line between two points P and Q in the plane.  \n",
    "    \"\"\"\n",
    "    # YOUR CODE HERE\n",
    "    if P[0] == Q[0]:\n",
    "        return (1,0)\n",
    "    if P[1] == Q[1]:\n",
    "        return (0,1)\n",
    "    x = Q[0] - P[0]\n",
    "    y = Q[1] - P[1]\n",
    "    new_y = -abs(y/math.sqrt(math.pow(x,2)+math.pow(y,2)))\n",
    "    new_x = -y/x*new_y\n",
    "    return (new_x,new_y)\n"
   ]
  },
  {
   "cell_type": "code",
   "execution_count": 44,
   "metadata": {
    "deletable": false,
    "editable": false,
    "nbgrader": {
     "cell_type": "code",
     "checksum": "b3e7b40f8b245ec8c37861bc35ea4f4a",
     "grade": true,
     "grade_id": "cell-d8bd699fba244978",
     "locked": true,
     "points": 5,
     "schema_version": 3,
     "solution": false,
     "task": false
    }
   },
   "outputs": [],
   "source": [
    "# [5 marks]\n",
    "# Test that checks the function produces a vector that is orthogonal to the line.\n",
    "from nose.tools import assert_equal,assert_almost_equal\n",
    "def are_orthogonal(v,w):\n",
    "    \"\"\"\n",
    "    Simple check to see if the two vectors v and w are orthogonal up to precision 1e-10.\n",
    "    \"\"\"\n",
    "    return abs(v[0]*w[0]+v[1]*w[1])<1e-10\n",
    "\n",
    "assert_equal( are_orthogonal(vector_perpendicular((0,1),(1,1)),(1,0)),True) \n",
    "assert_equal( are_orthogonal(vector_perpendicular((1,2),(1,3)),(0,1)),True)\n"
   ]
  },
  {
   "cell_type": "markdown",
   "metadata": {
    "deletable": false,
    "editable": false,
    "nbgrader": {
     "cell_type": "markdown",
     "checksum": "dd577694cfb7768f081403a8abcabcb8",
     "grade": false,
     "grade_id": "cell-f260d5f22e10e3a5",
     "locked": true,
     "schema_version": 3,
     "solution": false,
     "task": false
    }
   },
   "source": [
    "**c)** \n",
    "Write a function that computes the point of intersection between two lines in the plane given in the format (P,v) where P is a point and v a vector (both given by tuples of length 2). If the lines are parallell then the function should raise an AssertionError. \n",
    "\n",
    "Hint: If we are given the lines in parameter format\n",
    "$$\n",
    "L_1: s\\mapsto  P_1 + s\\mathbf{v_1} \\quad L_2: t\\mapsto P_2 + t\\mathbf{v_2}\n",
    "$$\n",
    "then we need to solve the linear system of equations $L_1(s)=L_2(t)$ for $s$ and $t$.\n",
    "If $P_i=(a_i,c_i)$ and $\\mathbf{v}_i = (b_i,d_i)$ then the system of equations take the form:\n",
    "$$\n",
    "   a_1 + b_1 s = a_2 + b_2 t\\\\\n",
    "   c_1 + d_1 s = c_2 + d_2 t\n",
    "$$\n",
    "and the aim is to find $s$ and $t$ in terms of the other coefficients. \n",
    "You also need to find out how you can tell from the coefficients if the two lines are parallel or not **[5 marks]**. \n"
   ]
  },
  {
   "cell_type": "code",
   "execution_count": 45,
   "metadata": {
    "deletable": false,
    "nbgrader": {
     "cell_type": "code",
     "checksum": "1e0d6e6572845a5da65d15c4c9549ec6",
     "grade": false,
     "grade_id": "cell-447639baabe020c7",
     "locked": false,
     "schema_version": 3,
     "solution": true,
     "task": false
    }
   },
   "outputs": [],
   "source": [
    "def intersection_lines(L1,L2):\n",
    "    \"\"\"\n",
    "    Find the intersection point of the two lines L1 and L2 given by two tuples L1=(P1,v1) and L2=(P2,v2) \n",
    "    where the points P1, P2 and the vectors v1 and v2 are all represented by tuples of length 2. \n",
    "    \n",
    "    If the vectors v1 and v2 are parallell then we raise an assertion error. \n",
    "    \"\"\"\n",
    "    # YOUR CODE HERE\n",
    "    a1, c1 = L1[0]\n",
    "    b1, d1 = L1[1]\n",
    "    a2, c2 = L2[0]\n",
    "    b2, d2 = L2[1]\n",
    "    if b2*d1 == b1*d2:\n",
    "        raise AssertionError()\n",
    "    t = ((a1-a2)*d1+(c2-c1)*b1)/(b2*d1-b1*d2)\n",
    "    s = (a2+b2*t-a1)/b1\n",
    "    Q1 = [a1+b1*s,c1+d1*s]\n",
    "    return Q1\n"
   ]
  },
  {
   "cell_type": "code",
   "execution_count": 46,
   "metadata": {
    "deletable": false,
    "editable": false,
    "nbgrader": {
     "cell_type": "code",
     "checksum": "7378150c6141fb22c914a8362b80ad77",
     "grade": true,
     "grade_id": "cell-8bfb239148e0fa59",
     "locked": true,
     "points": 3,
     "schema_version": 3,
     "solution": false,
     "task": false
    }
   },
   "outputs": [],
   "source": [
    "# [3 marks]\n",
    "from nose.tools import assert_equal\n",
    "assert_equal(intersection_lines(((1,1),(1,1)),((1,1),(0,1))),[1.0,1.0])\n",
    "assert_equal(intersection_lines(((1,-2),(1,1)),((1,1),(0,1))),[1.0,-2.0])\n"
   ]
  },
  {
   "cell_type": "code",
   "execution_count": 47,
   "metadata": {
    "deletable": false,
    "editable": false,
    "nbgrader": {
     "cell_type": "code",
     "checksum": "552e8f99bcbd4e102eff54e8baa06b72",
     "grade": true,
     "grade_id": "cell-172e2dad1bf9b89e",
     "locked": true,
     "points": 2,
     "schema_version": 3,
     "solution": false,
     "task": false
    }
   },
   "outputs": [],
   "source": [
    "# [2 marks]\n",
    "from nose.tools import assert_raises\n",
    "assert_raises(AssertionError,intersection_lines,((1,0),(0,1)),((1,1),(0,1)))\n",
    "assert_raises(AssertionError,intersection_lines,((1,0),(1,0)),((1,1),(2,0)))\n",
    "\n",
    "\n"
   ]
  },
  {
   "cell_type": "code",
   "execution_count": null,
   "metadata": {},
   "outputs": [],
   "source": []
  },
  {
   "cell_type": "code",
   "execution_count": null,
   "metadata": {},
   "outputs": [],
   "source": []
  }
 ],
 "metadata": {
  "kernelspec": {
   "display_name": "Python 3",
   "language": "python",
   "name": "python3"
  },
  "language_info": {
   "codemirror_mode": {
    "name": "ipython",
    "version": 3
   },
   "file_extension": ".py",
   "mimetype": "text/x-python",
   "name": "python",
   "nbconvert_exporter": "python",
   "pygments_lexer": "ipython3",
   "version": "3.8.3"
  }
 },
 "nbformat": 4,
 "nbformat_minor": 4
}
